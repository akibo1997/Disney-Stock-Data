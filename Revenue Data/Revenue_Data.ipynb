{
 "cells": [
  {
   "cell_type": "code",
   "execution_count": 2,
   "metadata": {},
   "outputs": [],
   "source": [
    "import matplotlib.pyplot as plt\n",
    "import pandas as pd\n",
    "import scipy.stats as st\n",
    "from scipy.stats import linregress\n",
    "import numpy as np\n"
   ]
  },
  {
   "cell_type": "code",
   "execution_count": 3,
   "metadata": {},
   "outputs": [],
   "source": [
    "stock_path = \"C:/Users/powde/Desktop/Disney-Stock-Data/Resources/Disney_Revenues.csv\""
   ]
  },
  {
   "cell_type": "code",
   "execution_count": 4,
   "metadata": {},
   "outputs": [],
   "source": [
    "revenue_data = pd.read_csv(stock_path)"
   ]
  },
  {
   "cell_type": "code",
   "execution_count": 5,
   "metadata": {},
   "outputs": [
    {
     "data": {
      "text/html": [
       "<div>\n",
       "<style scoped>\n",
       "    .dataframe tbody tr th:only-of-type {\n",
       "        vertical-align: middle;\n",
       "    }\n",
       "\n",
       "    .dataframe tbody tr th {\n",
       "        vertical-align: top;\n",
       "    }\n",
       "\n",
       "    .dataframe thead th {\n",
       "        text-align: right;\n",
       "    }\n",
       "</style>\n",
       "<table border=\"1\" class=\"dataframe\">\n",
       "  <thead>\n",
       "    <tr style=\"text-align: right;\">\n",
       "      <th></th>\n",
       "      <th>Unnamed: 0</th>\n",
       "      <th>Highest Stock Price</th>\n",
       "      <th>Revenue</th>\n",
       "      <th>Gross Profit</th>\n",
       "    </tr>\n",
       "  </thead>\n",
       "  <tbody>\n",
       "    <tr>\n",
       "      <td>0</td>\n",
       "      <td>Jun90</td>\n",
       "      <td>10.77</td>\n",
       "      <td>1539.5</td>\n",
       "      <td>548.4</td>\n",
       "    </tr>\n",
       "    <tr>\n",
       "      <td>1</td>\n",
       "      <td>Sep90</td>\n",
       "      <td>11.00</td>\n",
       "      <td>1712.3</td>\n",
       "      <td>559.0</td>\n",
       "    </tr>\n",
       "    <tr>\n",
       "      <td>2</td>\n",
       "      <td>Dec90</td>\n",
       "      <td>8.67</td>\n",
       "      <td>1492.4</td>\n",
       "      <td>473.5</td>\n",
       "    </tr>\n",
       "    <tr>\n",
       "      <td>3</td>\n",
       "      <td>Mar91</td>\n",
       "      <td>10.41</td>\n",
       "      <td>1439.0</td>\n",
       "      <td>407.6</td>\n",
       "    </tr>\n",
       "    <tr>\n",
       "      <td>4</td>\n",
       "      <td>Jun91</td>\n",
       "      <td>10.08</td>\n",
       "      <td>1511.6</td>\n",
       "      <td>522.4</td>\n",
       "    </tr>\n",
       "  </tbody>\n",
       "</table>\n",
       "</div>"
      ],
      "text/plain": [
       "  Unnamed: 0  Highest Stock Price  Revenue  Gross Profit\n",
       "0      Jun90                10.77   1539.5         548.4\n",
       "1      Sep90                11.00   1712.3         559.0\n",
       "2      Dec90                 8.67   1492.4         473.5\n",
       "3      Mar91                10.41   1439.0         407.6\n",
       "4      Jun91                10.08   1511.6         522.4"
      ]
     },
     "execution_count": 5,
     "metadata": {},
     "output_type": "execute_result"
    }
   ],
   "source": [
    "#Checking Data\n",
    "revenue_data.head()"
   ]
  },
  {
   "cell_type": "code",
   "execution_count": 6,
   "metadata": {},
   "outputs": [],
   "source": [
    "#Cleaning Data Headings\n",
    "revenue_data.rename(columns={'Unnamed: 0':'Fiscal Period'}, inplace=True)"
   ]
  },
  {
   "cell_type": "code",
   "execution_count": 7,
   "metadata": {},
   "outputs": [
    {
     "data": {
      "text/html": [
       "<div>\n",
       "<style scoped>\n",
       "    .dataframe tbody tr th:only-of-type {\n",
       "        vertical-align: middle;\n",
       "    }\n",
       "\n",
       "    .dataframe tbody tr th {\n",
       "        vertical-align: top;\n",
       "    }\n",
       "\n",
       "    .dataframe thead th {\n",
       "        text-align: right;\n",
       "    }\n",
       "</style>\n",
       "<table border=\"1\" class=\"dataframe\">\n",
       "  <thead>\n",
       "    <tr style=\"text-align: right;\">\n",
       "      <th></th>\n",
       "      <th>Fiscal Period</th>\n",
       "      <th>Highest Stock Price</th>\n",
       "      <th>Revenue</th>\n",
       "      <th>Gross Profit</th>\n",
       "    </tr>\n",
       "  </thead>\n",
       "  <tbody>\n",
       "    <tr>\n",
       "      <td>0</td>\n",
       "      <td>Jun90</td>\n",
       "      <td>10.77</td>\n",
       "      <td>1539.5</td>\n",
       "      <td>548.4</td>\n",
       "    </tr>\n",
       "    <tr>\n",
       "      <td>1</td>\n",
       "      <td>Sep90</td>\n",
       "      <td>11.00</td>\n",
       "      <td>1712.3</td>\n",
       "      <td>559.0</td>\n",
       "    </tr>\n",
       "    <tr>\n",
       "      <td>2</td>\n",
       "      <td>Dec90</td>\n",
       "      <td>8.67</td>\n",
       "      <td>1492.4</td>\n",
       "      <td>473.5</td>\n",
       "    </tr>\n",
       "    <tr>\n",
       "      <td>3</td>\n",
       "      <td>Mar91</td>\n",
       "      <td>10.41</td>\n",
       "      <td>1439.0</td>\n",
       "      <td>407.6</td>\n",
       "    </tr>\n",
       "    <tr>\n",
       "      <td>4</td>\n",
       "      <td>Jun91</td>\n",
       "      <td>10.08</td>\n",
       "      <td>1511.6</td>\n",
       "      <td>522.4</td>\n",
       "    </tr>\n",
       "  </tbody>\n",
       "</table>\n",
       "</div>"
      ],
      "text/plain": [
       "  Fiscal Period  Highest Stock Price  Revenue  Gross Profit\n",
       "0         Jun90                10.77   1539.5         548.4\n",
       "1         Sep90                11.00   1712.3         559.0\n",
       "2         Dec90                 8.67   1492.4         473.5\n",
       "3         Mar91                10.41   1439.0         407.6\n",
       "4         Jun91                10.08   1511.6         522.4"
      ]
     },
     "execution_count": 7,
     "metadata": {},
     "output_type": "execute_result"
    }
   ],
   "source": [
    "revenue_data.head()"
   ]
  },
  {
   "cell_type": "code",
   "execution_count": 8,
   "metadata": {},
   "outputs": [],
   "source": [
    "#Creating Length for diagramming over time.\n",
    "x_axis = np.arange(len(revenue_data))\n",
    "tick_locations = []\n",
    "for x in x_axis:\n",
    "    tick_locations.append(x)"
   ]
  },
  {
   "cell_type": "code",
   "execution_count": 9,
   "metadata": {},
   "outputs": [
    {
     "data": {
      "text/plain": [
       "([<matplotlib.axis.XTick at 0x1ea485d5a88>,\n",
       "  <matplotlib.axis.XTick at 0x1ea485d50c8>,\n",
       "  <matplotlib.axis.XTick at 0x1ea48373c48>,\n",
       "  <matplotlib.axis.XTick at 0x1ea48629588>,\n",
       "  <matplotlib.axis.XTick at 0x1ea48629dc8>,\n",
       "  <matplotlib.axis.XTick at 0x1ea48629fc8>,\n",
       "  <matplotlib.axis.XTick at 0x1ea4862cc48>,\n",
       "  <matplotlib.axis.XTick at 0x1ea486305c8>,\n",
       "  <matplotlib.axis.XTick at 0x1ea48630e08>,\n",
       "  <matplotlib.axis.XTick at 0x1ea48636a88>,\n",
       "  <matplotlib.axis.XTick at 0x1ea4863a5c8>,\n",
       "  <matplotlib.axis.XTick at 0x1ea4863d1c8>,\n",
       "  <matplotlib.axis.XTick at 0x1ea4863dc88>,\n",
       "  <matplotlib.axis.XTick at 0x1ea48641808>,\n",
       "  <matplotlib.axis.XTick at 0x1ea4863a448>,\n",
       "  <matplotlib.axis.XTick at 0x1ea48641308>,\n",
       "  <matplotlib.axis.XTick at 0x1ea48644748>,\n",
       "  <matplotlib.axis.XTick at 0x1ea48647148>,\n",
       "  <matplotlib.axis.XTick at 0x1ea48647d48>,\n",
       "  <matplotlib.axis.XTick at 0x1ea4864b8c8>,\n",
       "  <matplotlib.axis.XTick at 0x1ea4864e448>,\n",
       "  <matplotlib.axis.XTick at 0x1ea48653088>,\n",
       "  <matplotlib.axis.XTick at 0x1ea48653b08>,\n",
       "  <matplotlib.axis.XTick at 0x1ea48647dc8>,\n",
       "  <matplotlib.axis.XTick at 0x1ea48644808>,\n",
       "  <matplotlib.axis.XTick at 0x1ea48656b48>,\n",
       "  <matplotlib.axis.XTick at 0x1ea48659548>,\n",
       "  <matplotlib.axis.XTick at 0x1ea4865d208>,\n",
       "  <matplotlib.axis.XTick at 0x1ea4865dbc8>,\n",
       "  <matplotlib.axis.XTick at 0x1ea48661748>,\n",
       "  <matplotlib.axis.XTick at 0x1ea486642c8>,\n",
       "  <matplotlib.axis.XTick at 0x1ea48664e08>,\n",
       "  <matplotlib.axis.XTick at 0x1ea48667988>,\n",
       "  <matplotlib.axis.XTick at 0x1ea48664d08>,\n",
       "  <matplotlib.axis.XTick at 0x1ea48656dc8>,\n",
       "  <matplotlib.axis.XTick at 0x1ea4866b888>,\n",
       "  <matplotlib.axis.XTick at 0x1ea4866e288>,\n",
       "  <matplotlib.axis.XTick at 0x1ea4866ee48>,\n",
       "  <matplotlib.axis.XTick at 0x1ea48671988>,\n",
       "  <matplotlib.axis.XTick at 0x1ea48675508>,\n",
       "  <matplotlib.axis.XTick at 0x1ea48678108>,\n",
       "  <matplotlib.axis.XTick at 0x1ea48678bc8>,\n",
       "  <matplotlib.axis.XTick at 0x1ea4866eec8>,\n",
       "  <matplotlib.axis.XTick at 0x1ea48659608>,\n",
       "  <matplotlib.axis.XTick at 0x1ea4867cc08>,\n",
       "  <matplotlib.axis.XTick at 0x1ea4867f608>,\n",
       "  <matplotlib.axis.XTick at 0x1ea486832c8>,\n",
       "  <matplotlib.axis.XTick at 0x1ea48683c88>,\n",
       "  <matplotlib.axis.XTick at 0x1ea48686808>,\n",
       "  <matplotlib.axis.XTick at 0x1ea4868b388>,\n",
       "  <matplotlib.axis.XTick at 0x1ea4868bd88>,\n",
       "  <matplotlib.axis.XTick at 0x1ea4868ea48>,\n",
       "  <matplotlib.axis.XTick at 0x1ea4868bac8>,\n",
       "  <matplotlib.axis.XTick at 0x1ea4867f448>,\n",
       "  <matplotlib.axis.XTick at 0x1ea48692948>,\n",
       "  <matplotlib.axis.XTick at 0x1ea48695348>,\n",
       "  <matplotlib.axis.XTick at 0x1ea48695e08>,\n",
       "  <matplotlib.axis.XTick at 0x1ea48698a48>,\n",
       "  <matplotlib.axis.XTick at 0x1ea4869c5c8>,\n",
       "  <matplotlib.axis.XTick at 0x1ea4869f1c8>,\n",
       "  <matplotlib.axis.XTick at 0x1ea4869fc88>,\n",
       "  <matplotlib.axis.XTick at 0x1ea48698648>,\n",
       "  <matplotlib.axis.XTick at 0x1ea48692c48>,\n",
       "  <matplotlib.axis.XTick at 0x1ea486a35c8>,\n",
       "  <matplotlib.axis.XTick at 0x1ea486a6188>,\n",
       "  <matplotlib.axis.XTick at 0x1ea486a6b48>,\n",
       "  <matplotlib.axis.XTick at 0x1ea486a8548>,\n",
       "  <matplotlib.axis.XTick at 0x1ea486ad1c8>,\n",
       "  <matplotlib.axis.XTick at 0x1ea486adc48>,\n",
       "  <matplotlib.axis.XTick at 0x1ea486b17c8>,\n",
       "  <matplotlib.axis.XTick at 0x1ea486b4348>,\n",
       "  <matplotlib.axis.XTick at 0x1ea486b1508>,\n",
       "  <matplotlib.axis.XTick at 0x1ea4869f108>,\n",
       "  <matplotlib.axis.XTick at 0x1ea486b4e88>,\n",
       "  <matplotlib.axis.XTick at 0x1ea486b8a08>,\n",
       "  <matplotlib.axis.XTick at 0x1ea486ba588>,\n",
       "  <matplotlib.axis.XTick at 0x1ea486be188>,\n",
       "  <matplotlib.axis.XTick at 0x1ea486bec48>,\n",
       "  <matplotlib.axis.XTick at 0x1ea486c17c8>,\n",
       "  <matplotlib.axis.XTick at 0x1ea486be7c8>,\n",
       "  <matplotlib.axis.XTick at 0x1ea486c6288>,\n",
       "  <matplotlib.axis.XTick at 0x1ea486c6908>,\n",
       "  <matplotlib.axis.XTick at 0x1ea486c8308>,\n",
       "  <matplotlib.axis.XTick at 0x1ea486cc0c8>,\n",
       "  <matplotlib.axis.XTick at 0x1ea486ccac8>,\n",
       "  <matplotlib.axis.XTick at 0x1ea486d0648>,\n",
       "  <matplotlib.axis.XTick at 0x1ea486d3248>,\n",
       "  <matplotlib.axis.XTick at 0x1ea486d3d08>,\n",
       "  <matplotlib.axis.XTick at 0x1ea486cc088>,\n",
       "  <matplotlib.axis.XTick at 0x1ea486a3548>,\n",
       "  <matplotlib.axis.XTick at 0x1ea486d7e48>,\n",
       "  <matplotlib.axis.XTick at 0x1ea486da748>,\n",
       "  <matplotlib.axis.XTick at 0x1ea486de148>,\n",
       "  <matplotlib.axis.XTick at 0x1ea486dedc8>,\n",
       "  <matplotlib.axis.XTick at 0x1ea486e1948>,\n",
       "  <matplotlib.axis.XTick at 0x1ea486e54c8>,\n",
       "  <matplotlib.axis.XTick at 0x1ea486e80c8>,\n",
       "  <matplotlib.axis.XTick at 0x1ea486e8b88>,\n",
       "  <matplotlib.axis.XTick at 0x1ea486e55c8>,\n",
       "  <matplotlib.axis.XTick at 0x1ea486da588>,\n",
       "  <matplotlib.axis.XTick at 0x1ea486eca88>,\n",
       "  <matplotlib.axis.XTick at 0x1ea486ef488>,\n",
       "  <matplotlib.axis.XTick at 0x1ea486f2108>,\n",
       "  <matplotlib.axis.XTick at 0x1ea486f2b88>,\n",
       "  <matplotlib.axis.XTick at 0x1ea486f6708>,\n",
       "  <matplotlib.axis.XTick at 0x1ea486fa048>,\n",
       "  <matplotlib.axis.XTick at 0x1ea486fadc8>,\n",
       "  <matplotlib.axis.XTick at 0x1ea486f2188>,\n",
       "  <matplotlib.axis.XTick at 0x1ea486da608>,\n",
       "  <matplotlib.axis.XTick at 0x1ea48701188>,\n",
       "  <matplotlib.axis.XTick at 0x1ea48701808>,\n",
       "  <matplotlib.axis.XTick at 0x1ea48704208>,\n",
       "  <matplotlib.axis.XTick at 0x1ea48704e88>,\n",
       "  <matplotlib.axis.XTick at 0x1ea48708a08>,\n",
       "  <matplotlib.axis.XTick at 0x1ea4870c588>,\n",
       "  <matplotlib.axis.XTick at 0x1ea4870f188>,\n",
       "  <matplotlib.axis.XTick at 0x1ea4870fc48>,\n",
       "  <matplotlib.axis.XTick at 0x1ea4870c688>,\n",
       "  <matplotlib.axis.XTick at 0x1ea48701648>,\n",
       "  <matplotlib.axis.XTick at 0x1ea48712b48>],\n",
       " <a list of 120 Text xticklabel objects>)"
      ]
     },
     "execution_count": 9,
     "metadata": {},
     "output_type": "execute_result"
    },
    {
     "data": {
      "image/png": "[encoded data removed]",
      "text/plain": [
       "<Figure size 432x288 with 1 Axes>"
      ]
     },
     "metadata": {
      "needs_background": "light"
     },
     "output_type": "display_data"
    }
   ],
   "source": [
    "#Plotting Stock Price Over Time\n",
    "plt.scatter(x_axis, revenue_data[\"Highest Stock Price\"], marker=\"o\", color=\"red\")\n",
    "plt.title(\"Stock Price Over Time\")\n",
    "plt.xlabel(\"Quarterly Report\")\n",
    "plt.ylabel(\"Stock Price\")\n",
    "plt.xticks(tick_locations, revenue_data[\"Fiscal Period\"] )"
   ]
  },
  {
   "cell_type": "code",
   "execution_count": 10,
   "metadata": {},
   "outputs": [
    {
     "data": {
      "text/plain": [
       "([<matplotlib.axis.XTick at 0x1ea497f0d88>,\n",
       "  <matplotlib.axis.XTick at 0x1ea497f0588>,\n",
       "  <matplotlib.axis.XTick at 0x1ea497f0188>,\n",
       "  <matplotlib.axis.XTick at 0x1ea49805988>,\n",
       "  <matplotlib.axis.XTick at 0x1ea49808288>,\n",
       "  <matplotlib.axis.XTick at 0x1ea49808b48>,\n",
       "  <matplotlib.axis.XTick at 0x1ea49801548>,\n",
       "  <matplotlib.axis.XTick at 0x1ea4980b788>,\n",
       "  <matplotlib.axis.XTick at 0x1ea4980e348>,\n",
       "  <matplotlib.axis.XTick at 0x1ea4980ee88>,\n",
       "  <matplotlib.axis.XTick at 0x1ea498129c8>,\n",
       "  <matplotlib.axis.XTick at 0x1ea49816548>,\n",
       "  <matplotlib.axis.XTick at 0x1ea49819148>,\n",
       "  <matplotlib.axis.XTick at 0x1ea49819c08>,\n",
       "  <matplotlib.axis.XTick at 0x1ea4981c788>,\n",
       "  <matplotlib.axis.XTick at 0x1ea4981c608>,\n",
       "  <matplotlib.axis.XTick at 0x1ea4980b988>,\n",
       "  <matplotlib.axis.XTick at 0x1ea49822888>,\n",
       "  <matplotlib.axis.XTick at 0x1ea49824288>,\n",
       "  <matplotlib.axis.XTick at 0x1ea49824e48>,\n",
       "  <matplotlib.axis.XTick at 0x1ea498279c8>,\n",
       "  <matplotlib.axis.XTick at 0x1ea4982b548>,\n",
       "  <matplotlib.axis.XTick at 0x1ea4982e148>,\n",
       "  <matplotlib.axis.XTick at 0x1ea4982ec08>,\n",
       "  <matplotlib.axis.XTick at 0x1ea498278c8>,\n",
       "  <matplotlib.axis.XTick at 0x1ea4980b388>,\n",
       "  <matplotlib.axis.XTick at 0x1ea49834ec8>,\n",
       "  <matplotlib.axis.XTick at 0x1ea498376c8>,\n",
       "  <matplotlib.axis.XTick at 0x1ea4983a2c8>,\n",
       "  <matplotlib.axis.XTick at 0x1ea4983ad88>,\n",
       "  <matplotlib.axis.XTick at 0x1ea4983e908>,\n",
       "  <matplotlib.axis.XTick at 0x1ea49841488>,\n",
       "  <matplotlib.axis.XTick at 0x1ea498460c8>,\n",
       "  <matplotlib.axis.XTick at 0x1ea49846b48>,\n",
       "  <matplotlib.axis.XTick at 0x1ea49841588>,\n",
       "  <matplotlib.axis.XTick at 0x1ea498493c8>,\n",
       "  <matplotlib.axis.XTick at 0x1ea49849a48>,\n",
       "  <matplotlib.axis.XTick at 0x1ea4984c448>,\n",
       "  <matplotlib.axis.XTick at 0x1ea498500c8>,\n",
       "  <matplotlib.axis.XTick at 0x1ea49850b48>,\n",
       "  <matplotlib.axis.XTick at 0x1ea498536c8>,\n",
       "  <matplotlib.axis.XTick at 0x1ea498582c8>,\n",
       "  <matplotlib.axis.XTick at 0x1ea49858d88>,\n",
       "  <matplotlib.axis.XTick at 0x1ea49850148>,\n",
       "  <matplotlib.axis.XTick at 0x1ea49849b08>,\n",
       "  <matplotlib.axis.XTick at 0x1ea4985cc48>,\n",
       "  <matplotlib.axis.XTick at 0x1ea4985f7c8>,\n",
       "  <matplotlib.axis.XTick at 0x1ea498621c8>,\n",
       "  <matplotlib.axis.XTick at 0x1ea49862e48>,\n",
       "  <matplotlib.axis.XTick at 0x1ea498669c8>,\n",
       "  <matplotlib.axis.XTick at 0x1ea4986b548>,\n",
       "  <matplotlib.axis.XTick at 0x1ea4986e148>,\n",
       "  <matplotlib.axis.XTick at 0x1ea4986ec08>,\n",
       "  <matplotlib.axis.XTick at 0x1ea4986b648>,\n",
       "  <matplotlib.axis.XTick at 0x1ea4985f608>,\n",
       "  <matplotlib.axis.XTick at 0x1ea49872b08>,\n",
       "  <matplotlib.axis.XTick at 0x1ea49874508>,\n",
       "  <matplotlib.axis.XTick at 0x1ea49877188>,\n",
       "  <matplotlib.axis.XTick at 0x1ea49877c08>,\n",
       "  <matplotlib.axis.XTick at 0x1ea4987b788>,\n",
       "  <matplotlib.axis.XTick at 0x1ea4987f308>,\n",
       "  <matplotlib.axis.XTick at 0x1ea4987fe48>,\n",
       "  <matplotlib.axis.XTick at 0x1ea49877208>,\n",
       "  <matplotlib.axis.XTick at 0x1ea4985f688>,\n",
       "  <matplotlib.axis.XTick at 0x1ea49887208>,\n",
       "  <matplotlib.axis.XTick at 0x1ea49887888>,\n",
       "  <matplotlib.axis.XTick at 0x1ea49889288>,\n",
       "  <matplotlib.axis.XTick at 0x1ea49889dc8>,\n",
       "  <matplotlib.axis.XTick at 0x1ea4988da88>,\n",
       "  <matplotlib.axis.XTick at 0x1ea49892608>,\n",
       "  <matplotlib.axis.XTick at 0x1ea49896208>,\n",
       "  <matplotlib.axis.XTick at 0x1ea49896cc8>,\n",
       "  <matplotlib.axis.XTick at 0x1ea49892fc8>,\n",
       "  <matplotlib.axis.XTick at 0x1ea498876c8>,\n",
       "  <matplotlib.axis.XTick at 0x1ea49899bc8>,\n",
       "  <matplotlib.axis.XTick at 0x1ea4989b5c8>,\n",
       "  <matplotlib.axis.XTick at 0x1ea498a0248>,\n",
       "  <matplotlib.axis.XTick at 0x1ea498a0cc8>,\n",
       "  <matplotlib.axis.XTick at 0x1ea498a3848>,\n",
       "  <matplotlib.axis.XTick at 0x1ea498a83c8>,\n",
       "  <matplotlib.axis.XTick at 0x1ea498a8dc8>,\n",
       "  <matplotlib.axis.XTick at 0x1ea498a0088>,\n",
       "  <matplotlib.axis.XTick at 0x1ea49892d48>,\n",
       "  <matplotlib.axis.XTick at 0x1ea498ae248>,\n",
       "  <matplotlib.axis.XTick at 0x1ea498ae948>,\n",
       "  <matplotlib.axis.XTick at 0x1ea498b1348>,\n",
       "  <matplotlib.axis.XTick at 0x1ea498b40c8>,\n",
       "  <matplotlib.axis.XTick at 0x1ea498b4b48>,\n",
       "  <matplotlib.axis.XTick at 0x1ea498b96c8>,\n",
       "  <matplotlib.axis.XTick at 0x1ea498be2c8>,\n",
       "  <matplotlib.axis.XTick at 0x1ea498bed88>,\n",
       "  <matplotlib.axis.XTick at 0x1ea498b9748>,\n",
       "  <matplotlib.axis.XTick at 0x1ea498abb88>,\n",
       "  <matplotlib.axis.XTick at 0x1ea4982ec88>,\n",
       "  <matplotlib.axis.XTick at 0x1ea498c1c48>,\n",
       "  <matplotlib.axis.XTick at 0x1ea498c3648>,\n",
       "  <matplotlib.axis.XTick at 0x1ea498c62c8>,\n",
       "  <matplotlib.axis.XTick at 0x1ea498c6a08>,\n",
       "  <matplotlib.axis.XTick at 0x1ea498ca408>,\n",
       "  <matplotlib.axis.XTick at 0x1ea498cf148>,\n",
       "  <matplotlib.axis.XTick at 0x1ea498cf9c8>,\n",
       "  <matplotlib.axis.XTick at 0x1ea498c6d08>,\n",
       "  <matplotlib.axis.XTick at 0x1ea498d23c8>,\n",
       "  <matplotlib.axis.XTick at 0x1ea498d2ac8>,\n",
       "  <matplotlib.axis.XTick at 0x1ea498d64c8>,\n",
       "  <matplotlib.axis.XTick at 0x1ea498da208>,\n",
       "  <matplotlib.axis.XTick at 0x1ea498dacc8>,\n",
       "  <matplotlib.axis.XTick at 0x1ea498de848>,\n",
       "  <matplotlib.axis.XTick at 0x1ea498e13c8>,\n",
       "  <matplotlib.axis.XTick at 0x1ea498e1dc8>,\n",
       "  <matplotlib.axis.XTick at 0x1ea498def08>,\n",
       "  <matplotlib.axis.XTick at 0x1ea498e4048>,\n",
       "  <matplotlib.axis.XTick at 0x1ea498e7188>,\n",
       "  <matplotlib.axis.XTick at 0x1ea498e7808>,\n",
       "  <matplotlib.axis.XTick at 0x1ea498eb408>,\n",
       "  <matplotlib.axis.XTick at 0x1ea498ebdc8>,\n",
       "  <matplotlib.axis.XTick at 0x1ea498efa88>,\n",
       "  <matplotlib.axis.XTick at 0x1ea498f3608>,\n",
       "  <matplotlib.axis.XTick at 0x1ea498f6208>,\n",
       "  <matplotlib.axis.XTick at 0x1ea498f6a88>],\n",
       " <a list of 120 Text xticklabel objects>)"
      ]
     },
     "execution_count": 10,
     "metadata": {},
     "output_type": "execute_result"
    },
    {
     "data": {
      "image/png": "[encoded data removed]",
      "text/plain": [
       "<Figure size 432x288 with 1 Axes>"
      ]
     },
     "metadata": {
      "needs_background": "light"
     },
     "output_type": "display_data"
    }
   ],
   "source": [
    "#Plotting Revenue Over Time\n",
    "plt.scatter(x_axis, revenue_data[\"Revenue\"], marker=\"o\", color=\"red\")\n",
    "plt.title(\"Revenue Over Time\")\n",
    "plt.xlabel(\"Quarterly Report\")\n",
    "plt.ylabel(\"Revenue by 1,000\")\n",
    "plt.xticks(tick_locations, revenue_data[\"Fiscal Period\"] )"
   ]
  },
  {
   "cell_type": "code",
   "execution_count": 11,
   "metadata": {},
   "outputs": [
    {
     "data": {
      "text/plain": [
       "Text(0, 0.5, 'Stock Price')"
      ]
     },
     "execution_count": 11,
     "metadata": {},
     "output_type": "execute_result"
    },
    {
     "data": {
      "image/png": "[encoded data removed]",
      "text/plain": [
       "<Figure size 432x288 with 1 Axes>"
      ]
     },
     "metadata": {
      "needs_background": "light"
     },
     "output_type": "display_data"
    }
   ],
   "source": [
    "#Plotting Stock Price With Revenue\n",
    "plt.scatter(revenue_data[\"Revenue\"], revenue_data[\"Highest Stock Price\"], marker=\"o\", color=\"blue\")\n",
    "plt.title(\"Stock Price Compared to Revenue\")\n",
    "plt.xlabel(\"Revenue by 1,000\")\n",
    "plt.ylabel(\"Stock Price\")"
   ]
  },
  {
   "cell_type": "code",
   "execution_count": 12,
   "metadata": {},
   "outputs": [
    {
     "data": {
      "text/plain": [
       "([<matplotlib.axis.XTick at 0x1ea499ea108>,\n",
       "  <matplotlib.axis.XTick at 0x1ea499d27c8>,\n",
       "  <matplotlib.axis.XTick at 0x1ea499e5e48>,\n",
       "  <matplotlib.axis.XTick at 0x1ea49a0de88>,\n",
       "  <matplotlib.axis.XTick at 0x1ea49a0f548>,\n",
       "  <matplotlib.axis.XTick at 0x1ea49a0fcc8>,\n",
       "  <matplotlib.axis.XTick at 0x1ea49a12508>,\n",
       "  <matplotlib.axis.XTick at 0x1ea49a0fd88>,\n",
       "  <matplotlib.axis.XTick at 0x1ea49a18108>,\n",
       "  <matplotlib.axis.XTick at 0x1ea49a18ac8>,\n",
       "  <matplotlib.axis.XTick at 0x1ea49a1b488>,\n",
       "  <matplotlib.axis.XTick at 0x1ea49a1e1c8>,\n",
       "  <matplotlib.axis.XTick at 0x1ea49a1e848>,\n",
       "  <matplotlib.axis.XTick at 0x1ea49a23248>,\n",
       "  <matplotlib.axis.XTick at 0x1ea49a23c08>,\n",
       "  <matplotlib.axis.XTick at 0x1ea49a28608>,\n",
       "  <matplotlib.axis.XTick at 0x1ea49a23108>,\n",
       "  <matplotlib.axis.XTick at 0x1ea49a18c08>,\n",
       "  <matplotlib.axis.XTick at 0x1ea49a2c708>,\n",
       "  <matplotlib.axis.XTick at 0x1ea49a2f108>,\n",
       "  <matplotlib.axis.XTick at 0x1ea49a2fac8>,\n",
       "  <matplotlib.axis.XTick at 0x1ea49a324c8>,\n",
       "  <matplotlib.axis.XTick at 0x1ea49a37208>,\n",
       "  <matplotlib.axis.XTick at 0x1ea49a37888>,\n",
       "  <matplotlib.axis.XTick at 0x1ea49a3b488>,\n",
       "  <matplotlib.axis.XTick at 0x1ea49a3e088>,\n",
       "  <matplotlib.axis.XTick at 0x1ea49a3be08>,\n",
       "  <matplotlib.axis.XTick at 0x1ea49a28e48>,\n",
       "  <matplotlib.axis.XTick at 0x1ea49a41208>,\n",
       "  <matplotlib.axis.XTick at 0x1ea49a41908>,\n",
       "  <matplotlib.axis.XTick at 0x1ea49a46308>,\n",
       "  <matplotlib.axis.XTick at 0x1ea49a49088>,\n",
       "  <matplotlib.axis.XTick at 0x1ea49a49b08>,\n",
       "  <matplotlib.axis.XTick at 0x1ea49a4d688>,\n",
       "  <matplotlib.axis.XTick at 0x1ea49a50288>,\n",
       "  <matplotlib.axis.XTick at 0x1ea49a50b08>,\n",
       "  <matplotlib.axis.XTick at 0x1ea49a46448>,\n",
       "  <matplotlib.axis.XTick at 0x1ea49a542c8>,\n",
       "  <matplotlib.axis.XTick at 0x1ea49a54c88>,\n",
       "  <matplotlib.axis.XTick at 0x1ea49a57888>,\n",
       "  <matplotlib.axis.XTick at 0x1ea49a5b388>,\n",
       "  <matplotlib.axis.XTick at 0x1ea49a5bd88>,\n",
       "  <matplotlib.axis.XTick at 0x1ea49a5fa48>,\n",
       "  <matplotlib.axis.XTick at 0x1ea49a635c8>,\n",
       "  <matplotlib.axis.XTick at 0x1ea49a661c8>,\n",
       "  <matplotlib.axis.XTick at 0x1ea49a63c88>,\n",
       "  <matplotlib.axis.XTick at 0x1ea49a66248>,\n",
       "  <matplotlib.axis.XTick at 0x1ea49a6a2c8>,\n",
       "  <matplotlib.axis.XTick at 0x1ea49a6aa08>,\n",
       "  <matplotlib.axis.XTick at 0x1ea49a6d608>,\n",
       "  <matplotlib.axis.XTick at 0x1ea49a721c8>,\n",
       "  <matplotlib.axis.XTick at 0x1ea49a72c88>,\n",
       "  <matplotlib.axis.XTick at 0x1ea49a75808>,\n",
       "  <matplotlib.axis.XTick at 0x1ea49a79388>,\n",
       "  <matplotlib.axis.XTick at 0x1ea49a79ec8>,\n",
       "  <matplotlib.axis.XTick at 0x1ea49a6a308>,\n",
       "  <matplotlib.axis.XTick at 0x1ea49a7d3c8>,\n",
       "  <matplotlib.axis.XTick at 0x1ea49a7dc08>,\n",
       "  <matplotlib.axis.XTick at 0x1ea49a80788>,\n",
       "  <matplotlib.axis.XTick at 0x1ea49a84448>,\n",
       "  <matplotlib.axis.XTick at 0x1ea49a87088>,\n",
       "  <matplotlib.axis.XTick at 0x1ea49a87b08>,\n",
       "  <matplotlib.axis.XTick at 0x1ea49a8b688>,\n",
       "  <matplotlib.axis.XTick at 0x1ea49a8f288>,\n",
       "  <matplotlib.axis.XTick at 0x1ea49a8bd48>,\n",
       "  <matplotlib.axis.XTick at 0x1ea49a8f308>,\n",
       "  <matplotlib.axis.XTick at 0x1ea49a92108>,\n",
       "  <matplotlib.axis.XTick at 0x1ea49a92ac8>,\n",
       "  <matplotlib.axis.XTick at 0x1ea49a956c8>,\n",
       "  <matplotlib.axis.XTick at 0x1ea49a9a288>,\n",
       "  <matplotlib.axis.XTick at 0x1ea49a9ad48>,\n",
       "  <matplotlib.axis.XTick at 0x1ea49a9d8c8>,\n",
       "  <matplotlib.axis.XTick at 0x1ea49aa1448>,\n",
       "  <matplotlib.axis.XTick at 0x1ea49aa1b48>,\n",
       "  <matplotlib.axis.XTick at 0x1ea49a92908>,\n",
       "  <matplotlib.axis.XTick at 0x1ea49aa5488>,\n",
       "  <matplotlib.axis.XTick at 0x1ea49aa71c8>,\n",
       "  <matplotlib.axis.XTick at 0x1ea49aa7848>,\n",
       "  <matplotlib.axis.XTick at 0x1ea49aab508>,\n",
       "  <matplotlib.axis.XTick at 0x1ea49aae108>,\n",
       "  <matplotlib.axis.XTick at 0x1ea49aaebc8>,\n",
       "  <matplotlib.axis.XTick at 0x1ea49ab1748>,\n",
       "  <matplotlib.axis.XTick at 0x1ea49ab72c8>,\n",
       "  <matplotlib.axis.XTick at 0x1ea49ab1e08>,\n",
       "  <matplotlib.axis.XTick at 0x1ea49ab73c8>,\n",
       "  <matplotlib.axis.XTick at 0x1ea49aba1c8>,\n",
       "  <matplotlib.axis.XTick at 0x1ea49abab88>,\n",
       "  <matplotlib.axis.XTick at 0x1ea49abd788>,\n",
       "  <matplotlib.axis.XTick at 0x1ea49ac02c8>,\n",
       "  <matplotlib.axis.XTick at 0x1ea49ac0e08>,\n",
       "  <matplotlib.axis.XTick at 0x1ea49ac5988>,\n",
       "  <matplotlib.axis.XTick at 0x1ea49ac8508>,\n",
       "  <matplotlib.axis.XTick at 0x1ea49ac0348>,\n",
       "  <matplotlib.axis.XTick at 0x1ea49aba4c8>,\n",
       "  <matplotlib.axis.XTick at 0x1ea49a3e988>,\n",
       "  <matplotlib.axis.XTick at 0x1ea49acd588>,\n",
       "  <matplotlib.axis.XTick at 0x1ea49acf248>,\n",
       "  <matplotlib.axis.XTick at 0x1ea49acf948>,\n",
       "  <matplotlib.axis.XTick at 0x1ea49ad2348>,\n",
       "  <matplotlib.axis.XTick at 0x1ea49ad2f08>,\n",
       "  <matplotlib.axis.XTick at 0x1ea49ad6988>,\n",
       "  <matplotlib.axis.XTick at 0x1ea49ada508>,\n",
       "  <matplotlib.axis.XTick at 0x1ea49ada408>,\n",
       "  <matplotlib.axis.XTick at 0x1ea49acd6c8>,\n",
       "  <matplotlib.axis.XTick at 0x1ea49ade488>,\n",
       "  <matplotlib.axis.XTick at 0x1ea49ae01c8>,\n",
       "  <matplotlib.axis.XTick at 0x1ea49ae0848>,\n",
       "  <matplotlib.axis.XTick at 0x1ea49ae4508>,\n",
       "  <matplotlib.axis.XTick at 0x1ea49ae9108>,\n",
       "  <matplotlib.axis.XTick at 0x1ea49ae9bc8>,\n",
       "  <matplotlib.axis.XTick at 0x1ea49aec748>,\n",
       "  <matplotlib.axis.XTick at 0x1ea49ae4ec8>,\n",
       "  <matplotlib.axis.XTick at 0x1ea49ade2c8>,\n",
       "  <matplotlib.axis.XTick at 0x1ea49af0808>,\n",
       "  <matplotlib.axis.XTick at 0x1ea49af3208>,\n",
       "  <matplotlib.axis.XTick at 0x1ea49af3dc8>,\n",
       "  <matplotlib.axis.XTick at 0x1ea49af68c8>,\n",
       "  <matplotlib.axis.XTick at 0x1ea49afb448>,\n",
       "  <matplotlib.axis.XTick at 0x1ea49afe088>,\n",
       "  <matplotlib.axis.XTick at 0x1ea49afeb08>],\n",
       " <a list of 120 Text xticklabel objects>)"
      ]
     },
     "execution_count": 12,
     "metadata": {},
     "output_type": "execute_result"
    },
    {
     "data": {
      "image/png": "[encoded data removed]",
      "text/plain": [
       "<Figure size 432x288 with 1 Axes>"
      ]
     },
     "metadata": {
      "needs_background": "light"
     },
     "output_type": "display_data"
    }
   ],
   "source": [
    "#Plotting Gross Profit Over Time\n",
    "plt.scatter(x_axis, revenue_data[\"Gross Profit\"], marker=\"o\", color=\"red\")\n",
    "plt.title(\"Gross Profit Over Time\")\n",
    "plt.xlabel(\"Quarterly Report\")\n",
    "plt.ylabel(\"Gross Profit\")\n",
    "plt.xticks(tick_locations)"
   ]
  },
  {
   "cell_type": "code",
   "execution_count": 13,
   "metadata": {},
   "outputs": [
    {
     "data": {
      "text/plain": [
       "Text(0, 0.5, 'Gross Profit')"
      ]
     },
     "execution_count": 13,
     "metadata": {},
     "output_type": "execute_result"
    },
    {
     "data": {
      "image/png": "[encoded data removed]",
      "text/plain": [
       "<Figure size 432x288 with 1 Axes>"
      ]
     },
     "metadata": {
      "needs_background": "light"
     },
     "output_type": "display_data"
    }
   ],
   "source": [
    "#Plotting Stock Price With Gross Profit\n",
    "plt.scatter(revenue_data[\"Gross Profit\"], revenue_data[\"Highest Stock Price\"], marker=\"o\", color=\"blue\")\n",
    "plt.title(\"Stock Price Compared to Gross Profit\")\n",
    "plt.xlabel(\"Revenue by 1,000\")\n",
    "plt.ylabel(\"Gross Profit\")"
   ]
  },
  {
   "cell_type": "code",
   "execution_count": 14,
   "metadata": {},
   "outputs": [
    {
     "name": "stdout",
     "output_type": "stream",
     "text": [
      "The correlation between both factors is 0.9\n"
     ]
    },
    {
     "data": {
      "image/png": "[encoded data removed]",
      "text/plain": [
       "<Figure size 432x288 with 1 Axes>"
      ]
     },
     "metadata": {
      "needs_background": "light"
     },
     "output_type": "display_data"
    }
   ],
   "source": [
    "#Correlation of Stock Price and Revenue\n",
    "x_values = revenue_data[\"Revenue\"]\n",
    "y_values = revenue_data[\"Highest Stock Price\"]\n",
    "(slope, intercept, rvalue, pvalue, stderr) = linregress(x_values, y_values)\n",
    "regress_values = x_values * slope + intercept\n",
    "line_eq = \"y = \" + str(round(slope,2)) + \"x + \" + str(round(intercept,2))\n",
    "plt.scatter(x_values,y_values)\n",
    "plt.plot(x_values,regress_values,\"r-\")\n",
    "plt.annotate(line_eq,(6,10),fontsize=15,color=\"red\")\n",
    "plt.title(\"Stock Price Compared to Revenue\")\n",
    "plt.xlabel(\"Revenue by 1,000\")\n",
    "plt.ylabel(\"Stock Price\")\n",
    "correlation = st.pearsonr(revenue_data[\"Revenue\"], revenue_data[\"Highest Stock Price\"])\n",
    "print(f\"The correlation between both factors is {round(correlation[0],2)}\")\n",
    "plt.savefig(\"../Images/Revenue.png\")"
   ]
  },
  {
   "cell_type": "code",
   "execution_count": 15,
   "metadata": {},
   "outputs": [
    {
     "name": "stdout",
     "output_type": "stream",
     "text": [
      "The correlation between both factors is 0.85\n"
     ]
    },
    {
     "data": {
      "image/png": "[encoded data removed]",
      "text/plain": [
       "<Figure size 432x288 with 1 Axes>"
      ]
     },
     "metadata": {
      "needs_background": "light"
     },
     "output_type": "display_data"
    }
   ],
   "source": [
    "#Correlation of Stock Price and Gross Profit\n",
    "x_values = revenue_data[\"Gross Profit\"]\n",
    "y_values = revenue_data[\"Highest Stock Price\"]\n",
    "(slope, intercept, rvalue, pvalue, stderr) = linregress(x_values, y_values)\n",
    "regress_values = x_values * slope + intercept\n",
    "line_eq = \"y = \" + str(round(slope,2)) + \"x + \" + str(round(intercept,2))\n",
    "plt.scatter(x_values,y_values)\n",
    "plt.plot(x_values,regress_values,\"r-\")\n",
    "plt.annotate(line_eq,(6,10),fontsize=15,color=\"red\")\n",
    "plt.title(\"Stock Price Compared to Gross Profit\")\n",
    "plt.xlabel(\"Gross Profit\")\n",
    "plt.ylabel(\"Stock Price\")\n",
    "correlation = st.pearsonr(revenue_data[\"Gross Profit\"], revenue_data[\"Highest Stock Price\"])\n",
    "print(f\"The correlation between both factors is {round(correlation[0],2)}\")\n",
    "plt.savefig(\"../Images/Gross_Profit.png\")"
   ]
  },
  {
   "cell_type": "code",
   "execution_count": null,
   "metadata": {},
   "outputs": [],
   "source": []
  }
 ],
 "metadata": {
  "kernelspec": {
   "display_name": "Python 3",
   "language": "python",
   "name": "python3"
  },
  "language_info": {
   "codemirror_mode": {
    "name": "ipython",
    "version": 3
   },
   "file_extension": ".py",
   "mimetype": "text/x-python",
   "name": "python",
   "nbconvert_exporter": "python",
   "pygments_lexer": "ipython3",
   "version": "3.7.4"
  }
 },
 "nbformat": 4,
 "nbformat_minor": 2
}
