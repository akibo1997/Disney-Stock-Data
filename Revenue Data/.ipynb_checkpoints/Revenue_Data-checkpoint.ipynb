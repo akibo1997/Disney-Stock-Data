{
 "cells": [
  {
   "cell_type": "code",
   "execution_count": 1,
   "metadata": {},
   "outputs": [],
   "source": [
    "import matplotlib.pyplot as plt\n",
    "import pandas as pd\n",
    "import scipy.stats as st\n",
    "from scipy.stats import linregress\n",
    "import numpy as np\n"
   ]
  },
  {
   "cell_type": "code",
   "execution_count": 2,
   "metadata": {},
   "outputs": [],
   "source": [
    "stock_path = \"C:/Users/powde/Desktop/Disney-Stock-Data/Resources/Disney_Revenues.csv\""
   ]
  },
  {
   "cell_type": "code",
   "execution_count": 3,
   "metadata": {},
   "outputs": [],
   "source": [
    "revenue_data = pd.read_csv(stock_path)"
   ]
  },
  {
   "cell_type": "code",
   "execution_count": 4,
   "metadata": {},
   "outputs": [
    {
     "data": {
      "text/html": [
       "<div>\n",
       "<style scoped>\n",
       "    .dataframe tbody tr th:only-of-type {\n",
       "        vertical-align: middle;\n",
       "    }\n",
       "\n",
       "    .dataframe tbody tr th {\n",
       "        vertical-align: top;\n",
       "    }\n",
       "\n",
       "    .dataframe thead th {\n",
       "        text-align: right;\n",
       "    }\n",
       "</style>\n",
       "<table border=\"1\" class=\"dataframe\">\n",
       "  <thead>\n",
       "    <tr style=\"text-align: right;\">\n",
       "      <th></th>\n",
       "      <th>Unnamed: 0</th>\n",
       "      <th>Highest Stock Price</th>\n",
       "      <th>Revenue</th>\n",
       "      <th>Gross Profit</th>\n",
       "    </tr>\n",
       "  </thead>\n",
       "  <tbody>\n",
       "    <tr>\n",
       "      <td>0</td>\n",
       "      <td>Jun90</td>\n",
       "      <td>10.77</td>\n",
       "      <td>1539.5</td>\n",
       "      <td>548.4</td>\n",
       "    </tr>\n",
       "    <tr>\n",
       "      <td>1</td>\n",
       "      <td>Sep90</td>\n",
       "      <td>11.00</td>\n",
       "      <td>1712.3</td>\n",
       "      <td>559.0</td>\n",
       "    </tr>\n",
       "    <tr>\n",
       "      <td>2</td>\n",
       "      <td>Dec90</td>\n",
       "      <td>8.67</td>\n",
       "      <td>1492.4</td>\n",
       "      <td>473.5</td>\n",
       "    </tr>\n",
       "    <tr>\n",
       "      <td>3</td>\n",
       "      <td>Mar91</td>\n",
       "      <td>10.41</td>\n",
       "      <td>1439.0</td>\n",
       "      <td>407.6</td>\n",
       "    </tr>\n",
       "    <tr>\n",
       "      <td>4</td>\n",
       "      <td>Jun91</td>\n",
       "      <td>10.08</td>\n",
       "      <td>1511.6</td>\n",
       "      <td>522.4</td>\n",
       "    </tr>\n",
       "  </tbody>\n",
       "</table>\n",
       "</div>"
      ],
      "text/plain": [
       "  Unnamed: 0  Highest Stock Price  Revenue  Gross Profit\n",
       "0      Jun90                10.77   1539.5         548.4\n",
       "1      Sep90                11.00   1712.3         559.0\n",
       "2      Dec90                 8.67   1492.4         473.5\n",
       "3      Mar91                10.41   1439.0         407.6\n",
       "4      Jun91                10.08   1511.6         522.4"
      ]
     },
     "execution_count": 4,
     "metadata": {},
     "output_type": "execute_result"
    }
   ],
   "source": [
    "#Checking Data\n",
    "revenue_data.head()"
   ]
  },
  {
   "cell_type": "code",
   "execution_count": 5,
   "metadata": {},
   "outputs": [],
   "source": [
    "#Cleaning Data Headings\n",
    "revenue_data.rename(columns={'Unnamed: 0':'Fiscal Period'}, inplace=True)"
   ]
  },
  {
   "cell_type": "code",
   "execution_count": 6,
   "metadata": {},
   "outputs": [
    {
     "data": {
      "text/html": [
       "<div>\n",
       "<style scoped>\n",
       "    .dataframe tbody tr th:only-of-type {\n",
       "        vertical-align: middle;\n",
       "    }\n",
       "\n",
       "    .dataframe tbody tr th {\n",
       "        vertical-align: top;\n",
       "    }\n",
       "\n",
       "    .dataframe thead th {\n",
       "        text-align: right;\n",
       "    }\n",
       "</style>\n",
       "<table border=\"1\" class=\"dataframe\">\n",
       "  <thead>\n",
       "    <tr style=\"text-align: right;\">\n",
       "      <th></th>\n",
       "      <th>Fiscal Period</th>\n",
       "      <th>Highest Stock Price</th>\n",
       "      <th>Revenue</th>\n",
       "      <th>Gross Profit</th>\n",
       "    </tr>\n",
       "  </thead>\n",
       "  <tbody>\n",
       "    <tr>\n",
       "      <td>0</td>\n",
       "      <td>Jun90</td>\n",
       "      <td>10.77</td>\n",
       "      <td>1539.5</td>\n",
       "      <td>548.4</td>\n",
       "    </tr>\n",
       "    <tr>\n",
       "      <td>1</td>\n",
       "      <td>Sep90</td>\n",
       "      <td>11.00</td>\n",
       "      <td>1712.3</td>\n",
       "      <td>559.0</td>\n",
       "    </tr>\n",
       "    <tr>\n",
       "      <td>2</td>\n",
       "      <td>Dec90</td>\n",
       "      <td>8.67</td>\n",
       "      <td>1492.4</td>\n",
       "      <td>473.5</td>\n",
       "    </tr>\n",
       "    <tr>\n",
       "      <td>3</td>\n",
       "      <td>Mar91</td>\n",
       "      <td>10.41</td>\n",
       "      <td>1439.0</td>\n",
       "      <td>407.6</td>\n",
       "    </tr>\n",
       "    <tr>\n",
       "      <td>4</td>\n",
       "      <td>Jun91</td>\n",
       "      <td>10.08</td>\n",
       "      <td>1511.6</td>\n",
       "      <td>522.4</td>\n",
       "    </tr>\n",
       "  </tbody>\n",
       "</table>\n",
       "</div>"
      ],
      "text/plain": [
       "  Fiscal Period  Highest Stock Price  Revenue  Gross Profit\n",
       "0         Jun90                10.77   1539.5         548.4\n",
       "1         Sep90                11.00   1712.3         559.0\n",
       "2         Dec90                 8.67   1492.4         473.5\n",
       "3         Mar91                10.41   1439.0         407.6\n",
       "4         Jun91                10.08   1511.6         522.4"
      ]
     },
     "execution_count": 6,
     "metadata": {},
     "output_type": "execute_result"
    }
   ],
   "source": [
    "revenue_data.head()"
   ]
  },
  {
   "cell_type": "code",
   "execution_count": 10,
   "metadata": {},
   "outputs": [],
   "source": [
    "#Creating Length for diagramming over time.\n",
    "x_axis = np.arange(len(revenue_data))\n",
    "tick_locations = []\n",
    "for x in x_axis:\n",
    "    tick_locations.append(x)"
   ]
  },
  {
   "cell_type": "code",
   "execution_count": 23,
   "metadata": {},
   "outputs": [
    {
     "data": {
      "text/plain": [
       "([<matplotlib.axis.XTick at 0x19229218d88>,\n",
       "  <matplotlib.axis.XTick at 0x19229218448>,\n",
       "  <matplotlib.axis.XTick at 0x19229218048>,\n",
       "  <matplotlib.axis.XTick at 0x1922923dbc8>,\n",
       "  <matplotlib.axis.XTick at 0x1922923e1c8>,\n",
       "  <matplotlib.axis.XTick at 0x1922923ea88>,\n",
       "  <matplotlib.axis.XTick at 0x19229243148>,\n",
       "  <matplotlib.axis.XTick at 0x1922923e2c8>,\n",
       "  <matplotlib.axis.XTick at 0x19229243e48>,\n",
       "  <matplotlib.axis.XTick at 0x19229247848>,\n",
       "  <matplotlib.axis.XTick at 0x1922924b048>,\n",
       "  <matplotlib.axis.XTick at 0x1922924bbc8>,\n",
       "  <matplotlib.axis.XTick at 0x192292505c8>,\n",
       "  <matplotlib.axis.XTick at 0x19229250c48>,\n",
       "  <matplotlib.axis.XTick at 0x19229253988>,\n",
       "  <matplotlib.axis.XTick at 0x192292571c8>,\n",
       "  <matplotlib.axis.XTick at 0x19229257d48>,\n",
       "  <matplotlib.axis.XTick at 0x1922924bcc8>,\n",
       "  <matplotlib.axis.XTick at 0x1922925c248>,\n",
       "  <matplotlib.axis.XTick at 0x1922925cdc8>,\n",
       "  <matplotlib.axis.XTick at 0x1922925f7c8>,\n",
       "  <matplotlib.axis.XTick at 0x19229262248>,\n",
       "  <matplotlib.axis.XTick at 0x19229262b88>,\n",
       "  <matplotlib.axis.XTick at 0x19229266488>,\n",
       "  <matplotlib.axis.XTick at 0x1922926a148>,\n",
       "  <matplotlib.axis.XTick at 0x1922926ab48>,\n",
       "  <matplotlib.axis.XTick at 0x1922926ad88>,\n",
       "  <matplotlib.axis.XTick at 0x1922925cac8>,\n",
       "  <matplotlib.axis.XTick at 0x1922926edc8>,\n",
       "  <matplotlib.axis.XTick at 0x192292717c8>,\n",
       "  <matplotlib.axis.XTick at 0x192292741c8>,\n",
       "  <matplotlib.axis.XTick at 0x19229274b48>,\n",
       "  <matplotlib.axis.XTick at 0x192292786c8>,\n",
       "  <matplotlib.axis.XTick at 0x1922927e388>,\n",
       "  <matplotlib.axis.XTick at 0x1922927ed88>,\n",
       "  <matplotlib.axis.XTick at 0x19229274b08>,\n",
       "  <matplotlib.axis.XTick at 0x1922926ef48>,\n",
       "  <matplotlib.axis.XTick at 0x19229284248>,\n",
       "  <matplotlib.axis.XTick at 0x19229284b88>,\n",
       "  <matplotlib.axis.XTick at 0x19229287488>,\n",
       "  <matplotlib.axis.XTick at 0x1922928b088>,\n",
       "  <matplotlib.axis.XTick at 0x1922928ba88>,\n",
       "  <matplotlib.axis.XTick at 0x1922928f608>,\n",
       "  <matplotlib.axis.XTick at 0x192292932c8>,\n",
       "  <matplotlib.axis.XTick at 0x19229293cc8>,\n",
       "  <matplotlib.axis.XTick at 0x192292931c8>,\n",
       "  <matplotlib.axis.XTick at 0x19229297488>,\n",
       "  <matplotlib.axis.XTick at 0x19229297f08>,\n",
       "  <matplotlib.axis.XTick at 0x1922929a908>,\n",
       "  <matplotlib.axis.XTick at 0x1922929e308>,\n",
       "  <matplotlib.axis.XTick at 0x1922929ecc8>,\n",
       "  <matplotlib.axis.XTick at 0x192292a1848>,\n",
       "  <matplotlib.axis.XTick at 0x192292a53c8>,\n",
       "  <matplotlib.axis.XTick at 0x192292a9088>,\n",
       "  <matplotlib.axis.XTick at 0x1922929e488>,\n",
       "  <matplotlib.axis.XTick at 0x19229297e48>,\n",
       "  <matplotlib.axis.XTick at 0x192292ad108>,\n",
       "  <matplotlib.axis.XTick at 0x192292adc88>,\n",
       "  <matplotlib.axis.XTick at 0x192292af688>,\n",
       "  <matplotlib.axis.XTick at 0x192292b4148>,\n",
       "  <matplotlib.axis.XTick at 0x192292b4b48>,\n",
       "  <matplotlib.axis.XTick at 0x192292b86c8>,\n",
       "  <matplotlib.axis.XTick at 0x192292bb388>,\n",
       "  <matplotlib.axis.XTick at 0x192292bbd88>,\n",
       "  <matplotlib.axis.XTick at 0x192292bb288>,\n",
       "  <matplotlib.axis.XTick at 0x192292bf548>,\n",
       "  <matplotlib.axis.XTick at 0x192292bfc88>,\n",
       "  <matplotlib.axis.XTick at 0x192292c29c8>,\n",
       "  <matplotlib.axis.XTick at 0x192292c53c8>,\n",
       "  <matplotlib.axis.XTick at 0x192292c5d88>,\n",
       "  <matplotlib.axis.XTick at 0x192292c9908>,\n",
       "  <matplotlib.axis.XTick at 0x192292ce488>,\n",
       "  <matplotlib.axis.XTick at 0x192292d1148>,\n",
       "  <matplotlib.axis.XTick at 0x192292c5288>,\n",
       "  <matplotlib.axis.XTick at 0x192292b8988>,\n",
       "  <matplotlib.axis.XTick at 0x192292d41c8>,\n",
       "  <matplotlib.axis.XTick at 0x192292d4d48>,\n",
       "  <matplotlib.axis.XTick at 0x192292d6748>,\n",
       "  <matplotlib.axis.XTick at 0x192292db208>,\n",
       "  <matplotlib.axis.XTick at 0x192292dbc08>,\n",
       "  <matplotlib.axis.XTick at 0x192292de788>,\n",
       "  <matplotlib.axis.XTick at 0x192292e3448>,\n",
       "  <matplotlib.axis.XTick at 0x192292e6048>,\n",
       "  <matplotlib.axis.XTick at 0x192292e3088>,\n",
       "  <matplotlib.axis.XTick at 0x192292e65c8>,\n",
       "  <matplotlib.axis.XTick at 0x192292ea188>,\n",
       "  <matplotlib.axis.XTick at 0x192292eaa88>,\n",
       "  <matplotlib.axis.XTick at 0x192292ee388>,\n",
       "  <matplotlib.axis.XTick at 0x192292f1048>,\n",
       "  <matplotlib.axis.XTick at 0x192292f19c8>,\n",
       "  <matplotlib.axis.XTick at 0x192292f5548>,\n",
       "  <matplotlib.axis.XTick at 0x192292f8208>,\n",
       "  <matplotlib.axis.XTick at 0x192292f8d48>,\n",
       "  <matplotlib.axis.XTick at 0x192292ee108>,\n",
       "  <matplotlib.axis.XTick at 0x192292a9808>,\n",
       "  <matplotlib.axis.XTick at 0x192292fc508>,\n",
       "  <matplotlib.axis.XTick at 0x192292fcec8>,\n",
       "  <matplotlib.axis.XTick at 0x192292fe8c8>,\n",
       "  <matplotlib.axis.XTick at 0x19229302108>,\n",
       "  <matplotlib.axis.XTick at 0x19229302c88>,\n",
       "  <matplotlib.axis.XTick at 0x19229306608>,\n",
       "  <matplotlib.axis.XTick at 0x192293092c8>,\n",
       "  <matplotlib.axis.XTick at 0x192292ce588>,\n",
       "  <matplotlib.axis.XTick at 0x19229302d88>,\n",
       "  <matplotlib.axis.XTick at 0x192292ee488>,\n",
       "  <matplotlib.axis.XTick at 0x192291eaf48>,\n",
       "  <matplotlib.axis.XTick at 0x192291ee1c8>,\n",
       "  <matplotlib.axis.XTick at 0x192291f2488>,\n",
       "  <matplotlib.axis.XTick at 0x192291bbe08>,\n",
       "  <matplotlib.axis.XTick at 0x192291a61c8>,\n",
       "  <matplotlib.axis.XTick at 0x192291ee988>,\n",
       "  <matplotlib.axis.XTick at 0x19229302208>,\n",
       "  <matplotlib.axis.XTick at 0x192291a8788>,\n",
       "  <matplotlib.axis.XTick at 0x192291a4508>,\n",
       "  <matplotlib.axis.XTick at 0x192291cb788>,\n",
       "  <matplotlib.axis.XTick at 0x192291cbc48>,\n",
       "  <matplotlib.axis.XTick at 0x192291b1b48>,\n",
       "  <matplotlib.axis.XTick at 0x192291d7f88>,\n",
       "  <matplotlib.axis.XTick at 0x192291d7708>,\n",
       "  <matplotlib.axis.XTick at 0x192291cbd08>],\n",
       " <a list of 120 Text xticklabel objects>)"
      ]
     },
     "execution_count": 23,
     "metadata": {},
     "output_type": "execute_result"
    },
    {
     "data": {
      "image/png": "[encoded data removed]",
      "text/plain": [
       "<Figure size 432x288 with 1 Axes>"
      ]
     },
     "metadata": {
      "needs_background": "light"
     },
     "output_type": "display_data"
    }
   ],
   "source": [
    "#Plotting Stock Price Over Time\n",
    "plt.scatter(x_axis, revenue_data[\"Highest Stock Price\"], marker=\"o\", color=\"red\")\n",
    "plt.title(\"Stock Price Over Time\")\n",
    "plt.xlabel(\"Quarterly Report\")\n",
    "plt.ylabel(\"Stock Price\")\n",
    "plt.xticks(tick_locations, revenue_data[\"Fiscal Period\"] )"
   ]
  },
  {
   "cell_type": "code",
   "execution_count": 17,
   "metadata": {},
   "outputs": [
    {
     "data": {
      "text/plain": [
       "([<matplotlib.axis.XTick at 0x19225e13948>,\n",
       "  <matplotlib.axis.XTick at 0x19225e351c8>,\n",
       "  <matplotlib.axis.XTick at 0x192249bf688>,\n",
       "  <matplotlib.axis.XTick at 0x1922676f988>,\n",
       "  <matplotlib.axis.XTick at 0x19226775288>,\n",
       "  <matplotlib.axis.XTick at 0x19226775a08>,\n",
       "  <matplotlib.axis.XTick at 0x19226760a48>,\n",
       "  <matplotlib.axis.XTick at 0x192267788c8>,\n",
       "  <matplotlib.axis.XTick at 0x1922677b308>,\n",
       "  <matplotlib.axis.XTick at 0x1922677bd08>,\n",
       "  <matplotlib.axis.XTick at 0x19225d8d548>,\n",
       "  <matplotlib.axis.XTick at 0x19225db33c8>,\n",
       "  <matplotlib.axis.XTick at 0x19225dbf088>,\n",
       "  <matplotlib.axis.XTick at 0x19225dbfa88>,\n",
       "  <matplotlib.axis.XTick at 0x19225d80608>,\n",
       "  <matplotlib.axis.XTick at 0x19225db3688>,\n",
       "  <matplotlib.axis.XTick at 0x1922677bd48>,\n",
       "  <matplotlib.axis.XTick at 0x19225dada48>,\n",
       "  <matplotlib.axis.XTick at 0x19225d84448>,\n",
       "  <matplotlib.axis.XTick at 0x19225d84d08>,\n",
       "  <matplotlib.axis.XTick at 0x19225db4848>,\n",
       "  <matplotlib.axis.XTick at 0x19225dbc3c8>,\n",
       "  <matplotlib.axis.XTick at 0x19225c83088>,\n",
       "  <matplotlib.axis.XTick at 0x19225c83a88>,\n",
       "  <matplotlib.axis.XTick at 0x19225dbc148>,\n",
       "  <matplotlib.axis.XTick at 0x19225d845c8>,\n",
       "  <matplotlib.axis.XTick at 0x19225cb5f08>,\n",
       "  <matplotlib.axis.XTick at 0x19225cb2288>,\n",
       "  <matplotlib.axis.XTick at 0x19225ca2588>,\n",
       "  <matplotlib.axis.XTick at 0x19225ca2cc8>,\n",
       "  <matplotlib.axis.XTick at 0x19225c91848>,\n",
       "  <matplotlib.axis.XTick at 0x19225cbb3c8>,\n",
       "  <matplotlib.axis.XTick at 0x19225ca4088>,\n",
       "  <matplotlib.axis.XTick at 0x19225ca4a88>,\n",
       "  <matplotlib.axis.XTick at 0x19225ca4a48>,\n",
       "  <matplotlib.axis.XTick at 0x19225cb2388>,\n",
       "  <matplotlib.axis.XTick at 0x19225cb4cc8>,\n",
       "  <matplotlib.axis.XTick at 0x19225cb76c8>,\n",
       "  <matplotlib.axis.XTick at 0x19225cab0c8>,\n",
       "  <matplotlib.axis.XTick at 0x19225caba88>,\n",
       "  <matplotlib.axis.XTick at 0x19225c9d608>,\n",
       "  <matplotlib.axis.XTick at 0x19225dfc2c8>,\n",
       "  <matplotlib.axis.XTick at 0x19225dfccc8>,\n",
       "  <matplotlib.axis.XTick at 0x19225cab788>,\n",
       "  <matplotlib.axis.XTick at 0x19225cb4dc8>,\n",
       "  <matplotlib.axis.XTick at 0x19225de3148>,\n",
       "  <matplotlib.axis.XTick at 0x19225de3a48>,\n",
       "  <matplotlib.axis.XTick at 0x19225dc4448>,\n",
       "  <matplotlib.axis.XTick at 0x19225dc4d88>,\n",
       "  <matplotlib.axis.XTick at 0x19225de0908>,\n",
       "  <matplotlib.axis.XTick at 0x19225dc1488>,\n",
       "  <matplotlib.axis.XTick at 0x19225dc8148>,\n",
       "  <matplotlib.axis.XTick at 0x19225dc8b48>,\n",
       "  <matplotlib.axis.XTick at 0x19225dc8048>,\n",
       "  <matplotlib.axis.XTick at 0x19225de3988>,\n",
       "  <matplotlib.axis.XTick at 0x19225dd1d88>,\n",
       "  <matplotlib.axis.XTick at 0x19225dd9788>,\n",
       "  <matplotlib.axis.XTick at 0x19225ddd188>,\n",
       "  <matplotlib.axis.XTick at 0x19225dddb48>,\n",
       "  <matplotlib.axis.XTick at 0x19225de76c8>,\n",
       "  <matplotlib.axis.XTick at 0x19225df4388>,\n",
       "  <matplotlib.axis.XTick at 0x19225df4d88>,\n",
       "  <matplotlib.axis.XTick at 0x19225ddd8c8>,\n",
       "  <matplotlib.axis.XTick at 0x19225dd1f08>,\n",
       "  <matplotlib.axis.XTick at 0x192266f5508>,\n",
       "  <matplotlib.axis.XTick at 0x192266f5448>,\n",
       "  <matplotlib.axis.XTick at 0x192266da648>,\n",
       "  <matplotlib.axis.XTick at 0x192266d0d88>,\n",
       "  <matplotlib.axis.XTick at 0x192266d0608>,\n",
       "  <matplotlib.axis.XTick at 0x192266c1708>,\n",
       "  <matplotlib.axis.XTick at 0x192266f0208>,\n",
       "  <matplotlib.axis.XTick at 0x192266f0c08>,\n",
       "  <matplotlib.axis.XTick at 0x192266f0088>,\n",
       "  <matplotlib.axis.XTick at 0x192266f5488>,\n",
       "  <matplotlib.axis.XTick at 0x192266ece48>,\n",
       "  <matplotlib.axis.XTick at 0x192266fd848>,\n",
       "  <matplotlib.axis.XTick at 0x192266e9248>,\n",
       "  <matplotlib.axis.XTick at 0x192266e9c08>,\n",
       "  <matplotlib.axis.XTick at 0x192266f6788>,\n",
       "  <matplotlib.axis.XTick at 0x192266fc448>,\n",
       "  <matplotlib.axis.XTick at 0x192266f4048>,\n",
       "  <matplotlib.axis.XTick at 0x192266e9348>,\n",
       "  <matplotlib.axis.XTick at 0x192266ecd08>,\n",
       "  <matplotlib.axis.XTick at 0x192266cd048>,\n",
       "  <matplotlib.axis.XTick at 0x192266cdbc8>,\n",
       "  <matplotlib.axis.XTick at 0x192266e45c8>,\n",
       "  <matplotlib.axis.XTick at 0x192266c7088>,\n",
       "  <matplotlib.axis.XTick at 0x192266c7a88>,\n",
       "  <matplotlib.axis.XTick at 0x192266cb608>,\n",
       "  <matplotlib.axis.XTick at 0x192266ff2c8>,\n",
       "  <matplotlib.axis.XTick at 0x192266ffcc8>,\n",
       "  <matplotlib.axis.XTick at 0x192266ff148>,\n",
       "  <matplotlib.axis.XTick at 0x192266f4c88>,\n",
       "  <matplotlib.axis.XTick at 0x19225dad448>,\n",
       "  <matplotlib.axis.XTick at 0x19228abae48>,\n",
       "  <matplotlib.axis.XTick at 0x19228abc848>,\n",
       "  <matplotlib.axis.XTick at 0x19228abf088>,\n",
       "  <matplotlib.axis.XTick at 0x19228abfc08>,\n",
       "  <matplotlib.axis.XTick at 0x19228ac2608>,\n",
       "  <matplotlib.axis.XTick at 0x19228ac7088>,\n",
       "  <matplotlib.axis.XTick at 0x19228ac7bc8>,\n",
       "  <matplotlib.axis.XTick at 0x19228abf108>,\n",
       "  <matplotlib.axis.XTick at 0x19228acc108>,\n",
       "  <matplotlib.axis.XTick at 0x19228accc88>,\n",
       "  <matplotlib.axis.XTick at 0x19228ace688>,\n",
       "  <matplotlib.axis.XTick at 0x19228ad1148>,\n",
       "  <matplotlib.axis.XTick at 0x19228ad1b48>,\n",
       "  <matplotlib.axis.XTick at 0x19228ad56c8>,\n",
       "  <matplotlib.axis.XTick at 0x19228ad9388>,\n",
       "  <matplotlib.axis.XTick at 0x19228ad9d88>,\n",
       "  <matplotlib.axis.XTick at 0x19228ad9288>,\n",
       "  <matplotlib.axis.XTick at 0x19228adc548>,\n",
       "  <matplotlib.axis.XTick at 0x19228adcc88>,\n",
       "  <matplotlib.axis.XTick at 0x19228ae09c8>,\n",
       "  <matplotlib.axis.XTick at 0x19228ae33c8>,\n",
       "  <matplotlib.axis.XTick at 0x19228ae3d88>,\n",
       "  <matplotlib.axis.XTick at 0x19228ae7908>,\n",
       "  <matplotlib.axis.XTick at 0x19228aea488>,\n",
       "  <matplotlib.axis.XTick at 0x19228aee148>,\n",
       "  <matplotlib.axis.XTick at 0x19228ae3288>],\n",
       " <a list of 120 Text xticklabel objects>)"
      ]
     },
     "execution_count": 17,
     "metadata": {},
     "output_type": "execute_result"
    },
    {
     "data": {
      "image/png": "[encoded data removed]",
      "text/plain": [
       "<Figure size 432x288 with 1 Axes>"
      ]
     },
     "metadata": {
      "needs_background": "light"
     },
     "output_type": "display_data"
    }
   ],
   "source": [
    "#Plotting Revenue Over Time\n",
    "plt.scatter(x_axis, revenue_data[\"Revenue\"], marker=\"o\", color=\"red\")\n",
    "plt.title(\"Revenue Over Time\")\n",
    "plt.xlabel(\"Quarterly Report\")\n",
    "plt.ylabel(\"Revenue by 1,000\")\n",
    "plt.xticks(tick_locations, revenue_data[\"Fiscal Period\"] )"
   ]
  },
  {
   "cell_type": "code",
   "execution_count": 18,
   "metadata": {},
   "outputs": [
    {
     "data": {
      "text/plain": [
       "Text(0, 0.5, 'Stock Price')"
      ]
     },
     "execution_count": 18,
     "metadata": {},
     "output_type": "execute_result"
    },
    {
     "data": {
      "image/png": "[encoded data removed]",
      "text/plain": [
       "<Figure size 432x288 with 1 Axes>"
      ]
     },
     "metadata": {
      "needs_background": "light"
     },
     "output_type": "display_data"
    }
   ],
   "source": [
    "#Plotting Stock Price With Revenue\n",
    "plt.scatter(revenue_data[\"Revenue\"], revenue_data[\"Highest Stock Price\"], marker=\"o\", color=\"blue\")\n",
    "plt.title(\"Stock Price Compared to Revenue\")\n",
    "plt.xlabel(\"Revenue by 1,000\")\n",
    "plt.ylabel(\"Stock Price\")"
   ]
  },
  {
   "cell_type": "code",
   "execution_count": 19,
   "metadata": {},
   "outputs": [
    {
     "data": {
      "text/plain": [
       "([<matplotlib.axis.XTick at 0x19225cce7c8>,\n",
       "  <matplotlib.axis.XTick at 0x19225d69488>,\n",
       "  <matplotlib.axis.XTick at 0x19225ceaf48>,\n",
       "  <matplotlib.axis.XTick at 0x19225d3ddc8>,\n",
       "  <matplotlib.axis.XTick at 0x19225d2a508>,\n",
       "  <matplotlib.axis.XTick at 0x19225d2ac48>,\n",
       "  <matplotlib.axis.XTick at 0x19225d38488>,\n",
       "  <matplotlib.axis.XTick at 0x19225d2a248>,\n",
       "  <matplotlib.axis.XTick at 0x19225d13188>,\n",
       "  <matplotlib.axis.XTick at 0x19225d13a88>,\n",
       "  <matplotlib.axis.XTick at 0x19225d3c448>,\n",
       "  <matplotlib.axis.XTick at 0x19225d3ce08>,\n",
       "  <matplotlib.axis.XTick at 0x19225d1d808>,\n",
       "  <matplotlib.axis.XTick at 0x19225d2b048>,\n",
       "  <matplotlib.axis.XTick at 0x19225d2bbc8>,\n",
       "  <matplotlib.axis.XTick at 0x19225d0c5c8>,\n",
       "  <matplotlib.axis.XTick at 0x19225d0cc48>,\n",
       "  <matplotlib.axis.XTick at 0x19225d3c388>,\n",
       "  <matplotlib.axis.XTick at 0x19225d01648>,\n",
       "  <matplotlib.axis.XTick at 0x19225d0e108>,\n",
       "  <matplotlib.axis.XTick at 0x19225d0ea08>,\n",
       "  <matplotlib.axis.XTick at 0x19228af2248>,\n",
       "  <matplotlib.axis.XTick at 0x19228af2dc8>,\n",
       "  <matplotlib.axis.XTick at 0x19228af57c8>,\n",
       "  <matplotlib.axis.XTick at 0x19228afa1c8>,\n",
       "  <matplotlib.axis.XTick at 0x19228afab48>,\n",
       "  <matplotlib.axis.XTick at 0x19228af2508>,\n",
       "  <matplotlib.axis.XTick at 0x19225d012c8>,\n",
       "  <matplotlib.axis.XTick at 0x19228afde08>,\n",
       "  <matplotlib.axis.XTick at 0x19228b01808>,\n",
       "  <matplotlib.axis.XTick at 0x19228b04048>,\n",
       "  <matplotlib.axis.XTick at 0x19228b04b48>,\n",
       "  <matplotlib.axis.XTick at 0x19228b096c8>,\n",
       "  <matplotlib.axis.XTick at 0x19228b0c388>,\n",
       "  <matplotlib.axis.XTick at 0x19228b0cd88>,\n",
       "  <matplotlib.axis.XTick at 0x19228b04d88>,\n",
       "  <matplotlib.axis.XTick at 0x19228afda88>,\n",
       "  <matplotlib.axis.XTick at 0x19228b13088>,\n",
       "  <matplotlib.axis.XTick at 0x19228b13c08>,\n",
       "  <matplotlib.axis.XTick at 0x19228b15508>,\n",
       "  <matplotlib.axis.XTick at 0x19228b1b148>,\n",
       "  <matplotlib.axis.XTick at 0x19228b1bb48>,\n",
       "  <matplotlib.axis.XTick at 0x19228b1f6c8>,\n",
       "  <matplotlib.axis.XTick at 0x19228b23388>,\n",
       "  <matplotlib.axis.XTick at 0x19228b23d88>,\n",
       "  <matplotlib.axis.XTick at 0x19228b23dc8>,\n",
       "  <matplotlib.axis.XTick at 0x19228b26508>,\n",
       "  <matplotlib.axis.XTick at 0x19228b26c88>,\n",
       "  <matplotlib.axis.XTick at 0x19228b299c8>,\n",
       "  <matplotlib.axis.XTick at 0x19228b2d3c8>,\n",
       "  <matplotlib.axis.XTick at 0x19228b2dd88>,\n",
       "  <matplotlib.axis.XTick at 0x19228b30908>,\n",
       "  <matplotlib.axis.XTick at 0x19228b35488>,\n",
       "  <matplotlib.axis.XTick at 0x19228b38148>,\n",
       "  <matplotlib.axis.XTick at 0x19228b2d288>,\n",
       "  <matplotlib.axis.XTick at 0x19228b1f688>,\n",
       "  <matplotlib.axis.XTick at 0x19228b3b1c8>,\n",
       "  <matplotlib.axis.XTick at 0x19228b3bd48>,\n",
       "  <matplotlib.axis.XTick at 0x19228b3e748>,\n",
       "  <matplotlib.axis.XTick at 0x19228b42208>,\n",
       "  <matplotlib.axis.XTick at 0x19228b42c08>,\n",
       "  <matplotlib.axis.XTick at 0x19228b46788>,\n",
       "  <matplotlib.axis.XTick at 0x19228b49448>,\n",
       "  <matplotlib.axis.XTick at 0x19228b4c048>,\n",
       "  <matplotlib.axis.XTick at 0x19228b49088>,\n",
       "  <matplotlib.axis.XTick at 0x19228b4c5c8>,\n",
       "  <matplotlib.axis.XTick at 0x19228b52188>,\n",
       "  <matplotlib.axis.XTick at 0x19228b52a88>,\n",
       "  <matplotlib.axis.XTick at 0x19228b56388>,\n",
       "  <matplotlib.axis.XTick at 0x19228b59048>,\n",
       "  <matplotlib.axis.XTick at 0x19228b599c8>,\n",
       "  <matplotlib.axis.XTick at 0x19228b5d548>,\n",
       "  <matplotlib.axis.XTick at 0x19228b60208>,\n",
       "  <matplotlib.axis.XTick at 0x19228b60d48>,\n",
       "  <matplotlib.axis.XTick at 0x19228b56108>,\n",
       "  <matplotlib.axis.XTick at 0x19228b64288>,\n",
       "  <matplotlib.axis.XTick at 0x19228b64e08>,\n",
       "  <matplotlib.axis.XTick at 0x19228b66808>,\n",
       "  <matplotlib.axis.XTick at 0x19228b6c2c8>,\n",
       "  <matplotlib.axis.XTick at 0x19228b6ccc8>,\n",
       "  <matplotlib.axis.XTick at 0x19228b6f848>,\n",
       "  <matplotlib.axis.XTick at 0x19228b723c8>,\n",
       "  <matplotlib.axis.XTick at 0x19228b76088>,\n",
       "  <matplotlib.axis.XTick at 0x19228b72148>,\n",
       "  <matplotlib.axis.XTick at 0x19228b76308>,\n",
       "  <matplotlib.axis.XTick at 0x19228b79208>,\n",
       "  <matplotlib.axis.XTick at 0x19228b79b48>,\n",
       "  <matplotlib.axis.XTick at 0x19228b7c448>,\n",
       "  <matplotlib.axis.XTick at 0x19228b80088>,\n",
       "  <matplotlib.axis.XTick at 0x19228b80a88>,\n",
       "  <matplotlib.axis.XTick at 0x19228b83608>,\n",
       "  <matplotlib.axis.XTick at 0x19228b892c8>,\n",
       "  <matplotlib.axis.XTick at 0x19228b89e08>,\n",
       "  <matplotlib.axis.XTick at 0x19228b7c248>,\n",
       "  <matplotlib.axis.XTick at 0x19228b38d88>,\n",
       "  <matplotlib.axis.XTick at 0x19228b8c548>,\n",
       "  <matplotlib.axis.XTick at 0x19228b8cf08>,\n",
       "  <matplotlib.axis.XTick at 0x19228b8e908>,\n",
       "  <matplotlib.axis.XTick at 0x19228b92148>,\n",
       "  <matplotlib.axis.XTick at 0x19228b92cc8>,\n",
       "  <matplotlib.axis.XTick at 0x19228b95608>,\n",
       "  <matplotlib.axis.XTick at 0x19228b9a2c8>,\n",
       "  <matplotlib.axis.XTick at 0x19228b95e48>,\n",
       "  <matplotlib.axis.XTick at 0x19228b9a388>,\n",
       "  <matplotlib.axis.XTick at 0x19228b9d448>,\n",
       "  <matplotlib.axis.XTick at 0x19228b9de08>,\n",
       "  <matplotlib.axis.XTick at 0x19228ba0808>,\n",
       "  <matplotlib.axis.XTick at 0x19228ba42c8>,\n",
       "  <matplotlib.axis.XTick at 0x19228ba4cc8>,\n",
       "  <matplotlib.axis.XTick at 0x19228ba7848>,\n",
       "  <matplotlib.axis.XTick at 0x19228bab3c8>,\n",
       "  <matplotlib.axis.XTick at 0x19228ba7888>,\n",
       "  <matplotlib.axis.XTick at 0x19228ba0ec8>,\n",
       "  <matplotlib.axis.XTick at 0x19228baf7c8>,\n",
       "  <matplotlib.axis.XTick at 0x19228bb1248>,\n",
       "  <matplotlib.axis.XTick at 0x19228bb1a88>,\n",
       "  <matplotlib.axis.XTick at 0x19228bb5548>,\n",
       "  <matplotlib.axis.XTick at 0x19228bb9208>,\n",
       "  <matplotlib.axis.XTick at 0x19228bb9c08>,\n",
       "  <matplotlib.axis.XTick at 0x19228bbd788>],\n",
       " <a list of 120 Text xticklabel objects>)"
      ]
     },
     "execution_count": 19,
     "metadata": {},
     "output_type": "execute_result"
    },
    {
     "data": {
      "image/png": "[encoded data removed]",
      "text/plain": [
       "<Figure size 432x288 with 1 Axes>"
      ]
     },
     "metadata": {
      "needs_background": "light"
     },
     "output_type": "display_data"
    }
   ],
   "source": [
    "#Plotting Gross Profit Over Time\n",
    "plt.scatter(x_axis, revenue_data[\"Gross Profit\"], marker=\"o\", color=\"red\")\n",
    "plt.title(\"Gross Profit Over Time\")\n",
    "plt.xlabel(\"Quarterly Report\")\n",
    "plt.ylabel(\"Gross Profit\")\n",
    "plt.xticks(tick_locations)"
   ]
  },
  {
   "cell_type": "code",
   "execution_count": 20,
   "metadata": {},
   "outputs": [
    {
     "data": {
      "text/plain": [
       "Text(0, 0.5, 'Gross Profit')"
      ]
     },
     "execution_count": 20,
     "metadata": {},
     "output_type": "execute_result"
    },
    {
     "data": {
      "image/png": "[encoded data removed]",
      "text/plain": [
       "<Figure size 432x288 with 1 Axes>"
      ]
     },
     "metadata": {
      "needs_background": "light"
     },
     "output_type": "display_data"
    }
   ],
   "source": [
    "#Plotting Stock Price With Gross Profit\n",
    "plt.scatter(revenue_data[\"Gross Profit\"], revenue_data[\"Highest Stock Price\"], marker=\"o\", color=\"blue\")\n",
    "plt.title(\"Stock Price Compared to Gross Profit\")\n",
    "plt.xlabel(\"Revenue by 1,000\")\n",
    "plt.ylabel(\"Gross Profit\")"
   ]
  },
  {
   "cell_type": "code",
   "execution_count": 1,
   "metadata": {},
   "outputs": [
    {
     "ename": "NameError",
     "evalue": "name 'revenue_data' is not defined",
     "output_type": "error",
     "traceback": [
      "\u001b[1;31m---------------------------------------------------------------------------\u001b[0m",
      "\u001b[1;31mNameError\u001b[0m                                 Traceback (most recent call last)",
      "\u001b[1;32m<ipython-input-1-3d64f4bd3ac5>\u001b[0m in \u001b[0;36m<module>\u001b[1;34m\u001b[0m\n\u001b[0;32m      1\u001b[0m \u001b[1;31m#Correlation of Stock Price and Revenue\u001b[0m\u001b[1;33m\u001b[0m\u001b[1;33m\u001b[0m\u001b[1;33m\u001b[0m\u001b[0m\n\u001b[1;32m----> 2\u001b[1;33m \u001b[0mx_values\u001b[0m \u001b[1;33m=\u001b[0m \u001b[0mrevenue_data\u001b[0m\u001b[1;33m[\u001b[0m\u001b[1;34m\"Revenue\"\u001b[0m\u001b[1;33m]\u001b[0m\u001b[1;33m\u001b[0m\u001b[1;33m\u001b[0m\u001b[0m\n\u001b[0m\u001b[0;32m      3\u001b[0m \u001b[0my_values\u001b[0m \u001b[1;33m=\u001b[0m \u001b[0mrevenue_data\u001b[0m\u001b[1;33m[\u001b[0m\u001b[1;34m\"Highest Stock Price\"\u001b[0m\u001b[1;33m]\u001b[0m\u001b[1;33m\u001b[0m\u001b[1;33m\u001b[0m\u001b[0m\n\u001b[0;32m      4\u001b[0m \u001b[1;33m(\u001b[0m\u001b[0mslope\u001b[0m\u001b[1;33m,\u001b[0m \u001b[0mintercept\u001b[0m\u001b[1;33m,\u001b[0m \u001b[0mrvalue\u001b[0m\u001b[1;33m,\u001b[0m \u001b[0mpvalue\u001b[0m\u001b[1;33m,\u001b[0m \u001b[0mstderr\u001b[0m\u001b[1;33m)\u001b[0m \u001b[1;33m=\u001b[0m \u001b[0mlinregress\u001b[0m\u001b[1;33m(\u001b[0m\u001b[0mx_values\u001b[0m\u001b[1;33m,\u001b[0m \u001b[0my_values\u001b[0m\u001b[1;33m)\u001b[0m\u001b[1;33m\u001b[0m\u001b[1;33m\u001b[0m\u001b[0m\n\u001b[0;32m      5\u001b[0m \u001b[0mregress_values\u001b[0m \u001b[1;33m=\u001b[0m \u001b[0mx_values\u001b[0m \u001b[1;33m*\u001b[0m \u001b[0mslope\u001b[0m \u001b[1;33m+\u001b[0m \u001b[0mintercept\u001b[0m\u001b[1;33m\u001b[0m\u001b[1;33m\u001b[0m\u001b[0m\n",
      "\u001b[1;31mNameError\u001b[0m: name 'revenue_data' is not defined"
     ]
    }
   ],
   "source": [
    "#Correlation of Stock Price and Revenue\n",
    "x_values = revenue_data[\"Revenue\"]\n",
    "y_values = revenue_data[\"Highest Stock Price\"]\n",
    "(slope, intercept, rvalue, pvalue, stderr) = linregress(x_values, y_values)\n",
    "regress_values = x_values * slope + intercept\n",
    "line_eq = \"y = \" + str(round(slope,2)) + \"x + \" + str(round(intercept,2))\n",
    "plt.scatter(x_values,y_values)\n",
    "plt.plot(x_values,regress_values,\"r-\")\n",
    "plt.annotate(line_eq,(6,10),fontsize=15,color=\"red\")\n",
    "plt.title(\"Stock Price Compared to Revenue\")\n",
    "plt.xlabel(\"Revenue by 1,000\")\n",
    "plt.ylabel(\"Stock Price\")\n",
    "correlation = st.pearsonr(revenue_data[\"Revenue\"], revenue_data[\"Highest Stock Price\"])\n",
    "print(f\"The correlation between both factors is {round(correlation[0],2)}\")\n",
    "plt.savefig(\"../Images/Revenue.png\")"
   ]
  },
  {
   "cell_type": "code",
   "execution_count": 24,
   "metadata": {},
   "outputs": [
    {
     "name": "stdout",
     "output_type": "stream",
     "text": [
      "The correlation between both factors is 0.85\n"
     ]
    },
    {
     "data": {
      "image/png": "[encoded data removed]",
      "text/plain": [
       "<Figure size 432x288 with 1 Axes>"
      ]
     },
     "metadata": {
      "needs_background": "light"
     },
     "output_type": "display_data"
    }
   ],
   "source": [
    "#Correlation of Stock Price and Gross Profit\n",
    "x_values = revenue_data[\"Gross Profit\"]\n",
    "y_values = revenue_data[\"Highest Stock Price\"]\n",
    "(slope, intercept, rvalue, pvalue, stderr) = linregress(x_values, y_values)\n",
    "regress_values = x_values * slope + intercept\n",
    "line_eq = \"y = \" + str(round(slope,2)) + \"x + \" + str(round(intercept,2))\n",
    "plt.scatter(x_values,y_values)\n",
    "plt.plot(x_values,regress_values,\"r-\")\n",
    "plt.annotate(line_eq,(6,10),fontsize=15,color=\"red\")\n",
    "plt.title(\"Stock Price Compared to Gross Profit\")\n",
    "plt.xlabel(\"Gross Profit\")\n",
    "plt.ylabel(\"Stock Price\")\n",
    "correlation = st.pearsonr(revenue_data[\"Gross Profit\"], revenue_data[\"Highest Stock Price\"])\n",
    "print(f\"The correlation between both factors is {round(correlation[0],2)}\")"
   ]
  },
  {
   "cell_type": "code",
   "execution_count": null,
   "metadata": {},
   "outputs": [],
   "source": []
  }
 ],
 "metadata": {
  "kernelspec": {
   "display_name": "Python 3",
   "language": "python",
   "name": "python3"
  },
  "language_info": {
   "codemirror_mode": {
    "name": "ipython",
    "version": 3
   },
   "file_extension": ".py",
   "mimetype": "text/x-python",
   "name": "python",
   "nbconvert_exporter": "python",
   "pygments_lexer": "ipython3",
   "version": "3.7.4"
  }
 },
 "nbformat": 4,
 "nbformat_minor": 2
}
