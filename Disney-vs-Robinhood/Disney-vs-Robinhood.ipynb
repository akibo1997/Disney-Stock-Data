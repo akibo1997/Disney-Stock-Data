{
 "cells": [
  {
   "cell_type": "code",
   "execution_count": 65,
   "metadata": {},
   "outputs": [
    {
     "output_type": "execute_result",
     "data": {
      "text/plain": "            timestamp  users_holding               Time\n0       5/2/2018 4:56          59936   [5/2/2018, 4:56]\n1       5/2/2018 6:41          59936   [5/2/2018, 6:41]\n2       5/3/2018 0:38          59950   [5/3/2018, 0:38]\n3       5/3/2018 6:36          59950   [5/3/2018, 6:36]\n4       5/3/2018 6:51          59950   [5/3/2018, 6:51]\n...               ...            ...                ...\n14910  2/17/2020 4:50         218542  [2/17/2020, 4:50]\n14911  2/17/2020 5:50         218542  [2/17/2020, 5:50]\n14912  2/17/2020 6:50         218542  [2/17/2020, 6:50]\n14913  2/17/2020 7:50         218542  [2/17/2020, 7:50]\n14914  2/17/2020 8:50         218542  [2/17/2020, 8:50]\n\n[14915 rows x 3 columns]",
      "text/html": "<div>\n<style scoped>\n    .dataframe tbody tr th:only-of-type {\n        vertical-align: middle;\n    }\n\n    .dataframe tbody tr th {\n        vertical-align: top;\n    }\n\n    .dataframe thead th {\n        text-align: right;\n    }\n</style>\n<table border=\"1\" class=\"dataframe\">\n  <thead>\n    <tr style=\"text-align: right;\">\n      <th></th>\n      <th>timestamp</th>\n      <th>users_holding</th>\n      <th>Time</th>\n    </tr>\n  </thead>\n  <tbody>\n    <tr>\n      <td>0</td>\n      <td>5/2/2018 4:56</td>\n      <td>59936</td>\n      <td>[5/2/2018, 4:56]</td>\n    </tr>\n    <tr>\n      <td>1</td>\n      <td>5/2/2018 6:41</td>\n      <td>59936</td>\n      <td>[5/2/2018, 6:41]</td>\n    </tr>\n    <tr>\n      <td>2</td>\n      <td>5/3/2018 0:38</td>\n      <td>59950</td>\n      <td>[5/3/2018, 0:38]</td>\n    </tr>\n    <tr>\n      <td>3</td>\n      <td>5/3/2018 6:36</td>\n      <td>59950</td>\n      <td>[5/3/2018, 6:36]</td>\n    </tr>\n    <tr>\n      <td>4</td>\n      <td>5/3/2018 6:51</td>\n      <td>59950</td>\n      <td>[5/3/2018, 6:51]</td>\n    </tr>\n    <tr>\n      <td>...</td>\n      <td>...</td>\n      <td>...</td>\n      <td>...</td>\n    </tr>\n    <tr>\n      <td>14910</td>\n      <td>2/17/2020 4:50</td>\n      <td>218542</td>\n      <td>[2/17/2020, 4:50]</td>\n    </tr>\n    <tr>\n      <td>14911</td>\n      <td>2/17/2020 5:50</td>\n      <td>218542</td>\n      <td>[2/17/2020, 5:50]</td>\n    </tr>\n    <tr>\n      <td>14912</td>\n      <td>2/17/2020 6:50</td>\n      <td>218542</td>\n      <td>[2/17/2020, 6:50]</td>\n    </tr>\n    <tr>\n      <td>14913</td>\n      <td>2/17/2020 7:50</td>\n      <td>218542</td>\n      <td>[2/17/2020, 7:50]</td>\n    </tr>\n    <tr>\n      <td>14914</td>\n      <td>2/17/2020 8:50</td>\n      <td>218542</td>\n      <td>[2/17/2020, 8:50]</td>\n    </tr>\n  </tbody>\n</table>\n<p>14915 rows × 3 columns</p>\n</div>"
     },
     "metadata": {},
     "execution_count": 65
    }
   ],
   "source": [
    "import pandas as pd\n",
    "import matplotlib as plt\n",
    "import seaborn as sns\n",
    "from datetime import datetime\n",
    "\n",
    "# Import the file \n",
    "Disney_df = pd.read_csv(r\"C:\\Users\\akibo\\Desktop\\Columbia Bootcamp\\Disney-Stock-Data\\Resources\\DisneyHistoricalStockPriceData.csv\")\n",
    "\n",
    "Robinhood_df = pd.read_csv(r\"C:\\Users\\akibo\\Desktop\\Columbia Bootcamp\\Disney-Stock-Data\\Resources\\Disney Robinhood Data.csv\")\n",
    "\n",
    "Robinhood_df['Time'] = Robinhood_df['timestamp'].str.split(pat=\" \",n=2,expand=False)\n",
    "\n",
    "Robinhood_df"
   ]
  },
  {
   "cell_type": "code",
   "execution_count": 36,
   "metadata": {},
   "outputs": [
    {
     "output_type": "execute_result",
     "data": {
      "text/plain": "            date    open    high     low   close    volume\n1      6/18/2020  116.88  118.53  115.93  118.37   9562491\n2      6/17/2020  118.64  119.23  117.14  117.65   8921557\n3      6/16/2020  121.24   121.5  116.05  118.44  12951190\n4      6/15/2020  112.08  118.12  111.71  117.08  14156378\n5      6/12/2020  115.17     117  112.89  115.49  18361940\n...          ...     ...     ...     ...     ...       ...\n12529   6/7/1972    1.69    1.69    1.69    1.69         0\n12530   6/6/1972    1.68    1.68    1.68    1.68         0\n12531   6/5/1972    1.68    1.68    1.68    1.68         0\n12532   6/2/1972    1.68    1.68    1.68    1.68         0\n12533   6/1/1972    1.68    1.68    1.68    1.68         0\n\n[12533 rows x 6 columns]",
      "text/html": "<div>\n<style scoped>\n    .dataframe tbody tr th:only-of-type {\n        vertical-align: middle;\n    }\n\n    .dataframe tbody tr th {\n        vertical-align: top;\n    }\n\n    .dataframe thead th {\n        text-align: right;\n    }\n</style>\n<table border=\"1\" class=\"dataframe\">\n  <thead>\n    <tr style=\"text-align: right;\">\n      <th></th>\n      <th>date</th>\n      <th>open</th>\n      <th>high</th>\n      <th>low</th>\n      <th>close</th>\n      <th>volume</th>\n    </tr>\n  </thead>\n  <tbody>\n    <tr>\n      <td>1</td>\n      <td>6/18/2020</td>\n      <td>116.88</td>\n      <td>118.53</td>\n      <td>115.93</td>\n      <td>118.37</td>\n      <td>9562491</td>\n    </tr>\n    <tr>\n      <td>2</td>\n      <td>6/17/2020</td>\n      <td>118.64</td>\n      <td>119.23</td>\n      <td>117.14</td>\n      <td>117.65</td>\n      <td>8921557</td>\n    </tr>\n    <tr>\n      <td>3</td>\n      <td>6/16/2020</td>\n      <td>121.24</td>\n      <td>121.5</td>\n      <td>116.05</td>\n      <td>118.44</td>\n      <td>12951190</td>\n    </tr>\n    <tr>\n      <td>4</td>\n      <td>6/15/2020</td>\n      <td>112.08</td>\n      <td>118.12</td>\n      <td>111.71</td>\n      <td>117.08</td>\n      <td>14156378</td>\n    </tr>\n    <tr>\n      <td>5</td>\n      <td>6/12/2020</td>\n      <td>115.17</td>\n      <td>117</td>\n      <td>112.89</td>\n      <td>115.49</td>\n      <td>18361940</td>\n    </tr>\n    <tr>\n      <td>...</td>\n      <td>...</td>\n      <td>...</td>\n      <td>...</td>\n      <td>...</td>\n      <td>...</td>\n      <td>...</td>\n    </tr>\n    <tr>\n      <td>12529</td>\n      <td>6/7/1972</td>\n      <td>1.69</td>\n      <td>1.69</td>\n      <td>1.69</td>\n      <td>1.69</td>\n      <td>0</td>\n    </tr>\n    <tr>\n      <td>12530</td>\n      <td>6/6/1972</td>\n      <td>1.68</td>\n      <td>1.68</td>\n      <td>1.68</td>\n      <td>1.68</td>\n      <td>0</td>\n    </tr>\n    <tr>\n      <td>12531</td>\n      <td>6/5/1972</td>\n      <td>1.68</td>\n      <td>1.68</td>\n      <td>1.68</td>\n      <td>1.68</td>\n      <td>0</td>\n    </tr>\n    <tr>\n      <td>12532</td>\n      <td>6/2/1972</td>\n      <td>1.68</td>\n      <td>1.68</td>\n      <td>1.68</td>\n      <td>1.68</td>\n      <td>0</td>\n    </tr>\n    <tr>\n      <td>12533</td>\n      <td>6/1/1972</td>\n      <td>1.68</td>\n      <td>1.68</td>\n      <td>1.68</td>\n      <td>1.68</td>\n      <td>0</td>\n    </tr>\n  </tbody>\n</table>\n<p>12533 rows × 6 columns</p>\n</div>"
     },
     "metadata": {},
     "execution_count": 36
    }
   ],
   "source": [
    "# CLEANING THE DISNEY STOCK DATA\n",
    "# Pass in a list to name the header\n",
    "Disney_df.columns = [\"date\",\"open\",\"high\",\"low\",\"close\",\"volume\"]\n",
    "\n",
    "# Delete the previous row by deleting rows with the word \"open\"\n",
    "Disney_cleaned = Disney_df[df[\"open\"] != \"Open\"]\n",
    "\n",
    "# Pulling just the dates along with the close \n",
    "Disney_cleaned_ = Disney_cleaned[[\"date\",\"close\"]]\n",
    "\n",
    "Disney_cleaned"
   ]
  },
  {
   "cell_type": "code",
   "execution_count": 47,
   "metadata": {},
   "outputs": [
    {
     "output_type": "execute_result",
     "data": {
      "text/plain": "            date    open    high     low   close    volume  Change\n1      6/18/2020  116.88  118.53  115.93  118.37   9562491   -1.49\n2      6/17/2020  118.64  119.23  117.14  117.65   8921557    0.99\n3      6/16/2020  121.24   121.5  116.05  118.44  12951190    2.80\n4      6/15/2020  112.08  118.12  111.71  117.08  14156378   -5.00\n5      6/12/2020  115.17     117  112.89  115.49  18361940   -0.32\n...          ...     ...     ...     ...     ...       ...     ...\n12529   6/7/1972    1.69    1.69    1.69    1.69         0    0.00\n12530   6/6/1972    1.68    1.68    1.68    1.68         0    0.00\n12531   6/5/1972    1.68    1.68    1.68    1.68         0    0.00\n12532   6/2/1972    1.68    1.68    1.68    1.68         0    0.00\n12533   6/1/1972    1.68    1.68    1.68    1.68         0    0.00\n\n[12533 rows x 7 columns]",
      "text/html": "<div>\n<style scoped>\n    .dataframe tbody tr th:only-of-type {\n        vertical-align: middle;\n    }\n\n    .dataframe tbody tr th {\n        vertical-align: top;\n    }\n\n    .dataframe thead th {\n        text-align: right;\n    }\n</style>\n<table border=\"1\" class=\"dataframe\">\n  <thead>\n    <tr style=\"text-align: right;\">\n      <th></th>\n      <th>date</th>\n      <th>open</th>\n      <th>high</th>\n      <th>low</th>\n      <th>close</th>\n      <th>volume</th>\n      <th>Change</th>\n    </tr>\n  </thead>\n  <tbody>\n    <tr>\n      <td>1</td>\n      <td>6/18/2020</td>\n      <td>116.88</td>\n      <td>118.53</td>\n      <td>115.93</td>\n      <td>118.37</td>\n      <td>9562491</td>\n      <td>-1.49</td>\n    </tr>\n    <tr>\n      <td>2</td>\n      <td>6/17/2020</td>\n      <td>118.64</td>\n      <td>119.23</td>\n      <td>117.14</td>\n      <td>117.65</td>\n      <td>8921557</td>\n      <td>0.99</td>\n    </tr>\n    <tr>\n      <td>3</td>\n      <td>6/16/2020</td>\n      <td>121.24</td>\n      <td>121.5</td>\n      <td>116.05</td>\n      <td>118.44</td>\n      <td>12951190</td>\n      <td>2.80</td>\n    </tr>\n    <tr>\n      <td>4</td>\n      <td>6/15/2020</td>\n      <td>112.08</td>\n      <td>118.12</td>\n      <td>111.71</td>\n      <td>117.08</td>\n      <td>14156378</td>\n      <td>-5.00</td>\n    </tr>\n    <tr>\n      <td>5</td>\n      <td>6/12/2020</td>\n      <td>115.17</td>\n      <td>117</td>\n      <td>112.89</td>\n      <td>115.49</td>\n      <td>18361940</td>\n      <td>-0.32</td>\n    </tr>\n    <tr>\n      <td>...</td>\n      <td>...</td>\n      <td>...</td>\n      <td>...</td>\n      <td>...</td>\n      <td>...</td>\n      <td>...</td>\n      <td>...</td>\n    </tr>\n    <tr>\n      <td>12529</td>\n      <td>6/7/1972</td>\n      <td>1.69</td>\n      <td>1.69</td>\n      <td>1.69</td>\n      <td>1.69</td>\n      <td>0</td>\n      <td>0.00</td>\n    </tr>\n    <tr>\n      <td>12530</td>\n      <td>6/6/1972</td>\n      <td>1.68</td>\n      <td>1.68</td>\n      <td>1.68</td>\n      <td>1.68</td>\n      <td>0</td>\n      <td>0.00</td>\n    </tr>\n    <tr>\n      <td>12531</td>\n      <td>6/5/1972</td>\n      <td>1.68</td>\n      <td>1.68</td>\n      <td>1.68</td>\n      <td>1.68</td>\n      <td>0</td>\n      <td>0.00</td>\n    </tr>\n    <tr>\n      <td>12532</td>\n      <td>6/2/1972</td>\n      <td>1.68</td>\n      <td>1.68</td>\n      <td>1.68</td>\n      <td>1.68</td>\n      <td>0</td>\n      <td>0.00</td>\n    </tr>\n    <tr>\n      <td>12533</td>\n      <td>6/1/1972</td>\n      <td>1.68</td>\n      <td>1.68</td>\n      <td>1.68</td>\n      <td>1.68</td>\n      <td>0</td>\n      <td>0.00</td>\n    </tr>\n  </tbody>\n</table>\n<p>12533 rows × 7 columns</p>\n</div>"
     },
     "metadata": {},
     "execution_count": 47
    }
   ],
   "source": [
    "# Import a column that shows the change between the open and close price for the day\n",
    "\n",
    "# Pass in the columns to be subtracted as integers with pandas\n",
    "Disney_cleaned[\"Change\"] = pd.to_numeric(Disney_cleaned[\"open\"]) - pd.to_numeric(Disney_cleaned[\"close\"])\n",
    "Disney_cleaned"
   ]
  },
  {
   "cell_type": "code",
   "execution_count": 52,
   "metadata": {},
   "outputs": [
    {
     "output_type": "error",
     "ename": "KeyError",
     "evalue": "'date'",
     "traceback": [
      "\u001b[1;31m---------------------------------------------------------------------------\u001b[0m",
      "\u001b[1;31mKeyError\u001b[0m                                  Traceback (most recent call last)",
      "\u001b[1;32mC:\\ProgramData\\Anaconda3\\lib\\site-packages\\pandas\\core\\indexes\\base.py\u001b[0m in \u001b[0;36mget_loc\u001b[1;34m(self, key, method, tolerance)\u001b[0m\n\u001b[0;32m   2896\u001b[0m             \u001b[1;32mtry\u001b[0m\u001b[1;33m:\u001b[0m\u001b[1;33m\u001b[0m\u001b[1;33m\u001b[0m\u001b[0m\n\u001b[1;32m-> 2897\u001b[1;33m                 \u001b[1;32mreturn\u001b[0m \u001b[0mself\u001b[0m\u001b[1;33m.\u001b[0m\u001b[0m_engine\u001b[0m\u001b[1;33m.\u001b[0m\u001b[0mget_loc\u001b[0m\u001b[1;33m(\u001b[0m\u001b[0mkey\u001b[0m\u001b[1;33m)\u001b[0m\u001b[1;33m\u001b[0m\u001b[1;33m\u001b[0m\u001b[0m\n\u001b[0m\u001b[0;32m   2898\u001b[0m             \u001b[1;32mexcept\u001b[0m \u001b[0mKeyError\u001b[0m\u001b[1;33m:\u001b[0m\u001b[1;33m\u001b[0m\u001b[1;33m\u001b[0m\u001b[0m\n",
      "\u001b[1;32mpandas\\_libs\\index.pyx\u001b[0m in \u001b[0;36mpandas._libs.index.IndexEngine.get_loc\u001b[1;34m()\u001b[0m\n",
      "\u001b[1;32mpandas\\_libs\\index.pyx\u001b[0m in \u001b[0;36mpandas._libs.index.IndexEngine.get_loc\u001b[1;34m()\u001b[0m\n",
      "\u001b[1;32mpandas\\_libs\\hashtable_class_helper.pxi\u001b[0m in \u001b[0;36mpandas._libs.hashtable.PyObjectHashTable.get_item\u001b[1;34m()\u001b[0m\n",
      "\u001b[1;32mpandas\\_libs\\hashtable_class_helper.pxi\u001b[0m in \u001b[0;36mpandas._libs.hashtable.PyObjectHashTable.get_item\u001b[1;34m()\u001b[0m\n",
      "\u001b[1;31mKeyError\u001b[0m: 'date'",
      "\nDuring handling of the above exception, another exception occurred:\n",
      "\u001b[1;31mKeyError\u001b[0m                                  Traceback (most recent call last)",
      "\u001b[1;32m<ipython-input-52-f0baab4f952c>\u001b[0m in \u001b[0;36m<module>\u001b[1;34m\u001b[0m\n\u001b[1;32m----> 1\u001b[1;33m \u001b[0msns\u001b[0m\u001b[1;33m.\u001b[0m\u001b[0mlineplot\u001b[0m\u001b[1;33m(\u001b[0m\u001b[0mRobinhood_df\u001b[0m\u001b[1;33m[\u001b[0m\u001b[1;34m\"date\"\u001b[0m\u001b[1;33m]\u001b[0m\u001b[1;33m,\u001b[0m\u001b[0mRobinhood_df\u001b[0m\u001b[1;33m[\u001b[0m\u001b[1;34m\"users_holding\"\u001b[0m\u001b[1;33m]\u001b[0m\u001b[1;33m,\u001b[0m\u001b[0mdata\u001b[0m\u001b[1;33m=\u001b[0m\u001b[0mRobinhood_df\u001b[0m\u001b[1;33m)\u001b[0m\u001b[1;33m\u001b[0m\u001b[1;33m\u001b[0m\u001b[0m\n\u001b[0m",
      "\u001b[1;32mC:\\ProgramData\\Anaconda3\\lib\\site-packages\\pandas\\core\\frame.py\u001b[0m in \u001b[0;36m__getitem__\u001b[1;34m(self, key)\u001b[0m\n\u001b[0;32m   2978\u001b[0m             \u001b[1;32mif\u001b[0m \u001b[0mself\u001b[0m\u001b[1;33m.\u001b[0m\u001b[0mcolumns\u001b[0m\u001b[1;33m.\u001b[0m\u001b[0mnlevels\u001b[0m \u001b[1;33m>\u001b[0m \u001b[1;36m1\u001b[0m\u001b[1;33m:\u001b[0m\u001b[1;33m\u001b[0m\u001b[1;33m\u001b[0m\u001b[0m\n\u001b[0;32m   2979\u001b[0m                 \u001b[1;32mreturn\u001b[0m \u001b[0mself\u001b[0m\u001b[1;33m.\u001b[0m\u001b[0m_getitem_multilevel\u001b[0m\u001b[1;33m(\u001b[0m\u001b[0mkey\u001b[0m\u001b[1;33m)\u001b[0m\u001b[1;33m\u001b[0m\u001b[1;33m\u001b[0m\u001b[0m\n\u001b[1;32m-> 2980\u001b[1;33m             \u001b[0mindexer\u001b[0m \u001b[1;33m=\u001b[0m \u001b[0mself\u001b[0m\u001b[1;33m.\u001b[0m\u001b[0mcolumns\u001b[0m\u001b[1;33m.\u001b[0m\u001b[0mget_loc\u001b[0m\u001b[1;33m(\u001b[0m\u001b[0mkey\u001b[0m\u001b[1;33m)\u001b[0m\u001b[1;33m\u001b[0m\u001b[1;33m\u001b[0m\u001b[0m\n\u001b[0m\u001b[0;32m   2981\u001b[0m             \u001b[1;32mif\u001b[0m \u001b[0mis_integer\u001b[0m\u001b[1;33m(\u001b[0m\u001b[0mindexer\u001b[0m\u001b[1;33m)\u001b[0m\u001b[1;33m:\u001b[0m\u001b[1;33m\u001b[0m\u001b[1;33m\u001b[0m\u001b[0m\n\u001b[0;32m   2982\u001b[0m                 \u001b[0mindexer\u001b[0m \u001b[1;33m=\u001b[0m \u001b[1;33m[\u001b[0m\u001b[0mindexer\u001b[0m\u001b[1;33m]\u001b[0m\u001b[1;33m\u001b[0m\u001b[1;33m\u001b[0m\u001b[0m\n",
      "\u001b[1;32mC:\\ProgramData\\Anaconda3\\lib\\site-packages\\pandas\\core\\indexes\\base.py\u001b[0m in \u001b[0;36mget_loc\u001b[1;34m(self, key, method, tolerance)\u001b[0m\n\u001b[0;32m   2897\u001b[0m                 \u001b[1;32mreturn\u001b[0m \u001b[0mself\u001b[0m\u001b[1;33m.\u001b[0m\u001b[0m_engine\u001b[0m\u001b[1;33m.\u001b[0m\u001b[0mget_loc\u001b[0m\u001b[1;33m(\u001b[0m\u001b[0mkey\u001b[0m\u001b[1;33m)\u001b[0m\u001b[1;33m\u001b[0m\u001b[1;33m\u001b[0m\u001b[0m\n\u001b[0;32m   2898\u001b[0m             \u001b[1;32mexcept\u001b[0m \u001b[0mKeyError\u001b[0m\u001b[1;33m:\u001b[0m\u001b[1;33m\u001b[0m\u001b[1;33m\u001b[0m\u001b[0m\n\u001b[1;32m-> 2899\u001b[1;33m                 \u001b[1;32mreturn\u001b[0m \u001b[0mself\u001b[0m\u001b[1;33m.\u001b[0m\u001b[0m_engine\u001b[0m\u001b[1;33m.\u001b[0m\u001b[0mget_loc\u001b[0m\u001b[1;33m(\u001b[0m\u001b[0mself\u001b[0m\u001b[1;33m.\u001b[0m\u001b[0m_maybe_cast_indexer\u001b[0m\u001b[1;33m(\u001b[0m\u001b[0mkey\u001b[0m\u001b[1;33m)\u001b[0m\u001b[1;33m)\u001b[0m\u001b[1;33m\u001b[0m\u001b[1;33m\u001b[0m\u001b[0m\n\u001b[0m\u001b[0;32m   2900\u001b[0m         \u001b[0mindexer\u001b[0m \u001b[1;33m=\u001b[0m \u001b[0mself\u001b[0m\u001b[1;33m.\u001b[0m\u001b[0mget_indexer\u001b[0m\u001b[1;33m(\u001b[0m\u001b[1;33m[\u001b[0m\u001b[0mkey\u001b[0m\u001b[1;33m]\u001b[0m\u001b[1;33m,\u001b[0m \u001b[0mmethod\u001b[0m\u001b[1;33m=\u001b[0m\u001b[0mmethod\u001b[0m\u001b[1;33m,\u001b[0m \u001b[0mtolerance\u001b[0m\u001b[1;33m=\u001b[0m\u001b[0mtolerance\u001b[0m\u001b[1;33m)\u001b[0m\u001b[1;33m\u001b[0m\u001b[1;33m\u001b[0m\u001b[0m\n\u001b[0;32m   2901\u001b[0m         \u001b[1;32mif\u001b[0m \u001b[0mindexer\u001b[0m\u001b[1;33m.\u001b[0m\u001b[0mndim\u001b[0m \u001b[1;33m>\u001b[0m \u001b[1;36m1\u001b[0m \u001b[1;32mor\u001b[0m \u001b[0mindexer\u001b[0m\u001b[1;33m.\u001b[0m\u001b[0msize\u001b[0m \u001b[1;33m>\u001b[0m \u001b[1;36m1\u001b[0m\u001b[1;33m:\u001b[0m\u001b[1;33m\u001b[0m\u001b[1;33m\u001b[0m\u001b[0m\n",
      "\u001b[1;32mpandas\\_libs\\index.pyx\u001b[0m in \u001b[0;36mpandas._libs.index.IndexEngine.get_loc\u001b[1;34m()\u001b[0m\n",
      "\u001b[1;32mpandas\\_libs\\index.pyx\u001b[0m in \u001b[0;36mpandas._libs.index.IndexEngine.get_loc\u001b[1;34m()\u001b[0m\n",
      "\u001b[1;32mpandas\\_libs\\hashtable_class_helper.pxi\u001b[0m in \u001b[0;36mpandas._libs.hashtable.PyObjectHashTable.get_item\u001b[1;34m()\u001b[0m\n",
      "\u001b[1;32mpandas\\_libs\\hashtable_class_helper.pxi\u001b[0m in \u001b[0;36mpandas._libs.hashtable.PyObjectHashTable.get_item\u001b[1;34m()\u001b[0m\n",
      "\u001b[1;31mKeyError\u001b[0m: 'date'"
     ]
    }
   ],
   "source": []
  },
  {
   "cell_type": "code",
   "execution_count": null,
   "metadata": {},
   "outputs": [],
   "source": []
  }
 ],
 "metadata": {
  "kernelspec": {
   "display_name": "Python 3",
   "language": "python",
   "name": "python3"
  },
  "language_info": {
   "codemirror_mode": {
    "name": "ipython",
    "version": 3
   },
   "file_extension": ".py",
   "mimetype": "text/x-python",
   "name": "python",
   "nbconvert_exporter": "python",
   "pygments_lexer": "ipython3",
   "version": "3.7.4-final"
  }
 },
 "nbformat": 4,
 "nbformat_minor": 4
}